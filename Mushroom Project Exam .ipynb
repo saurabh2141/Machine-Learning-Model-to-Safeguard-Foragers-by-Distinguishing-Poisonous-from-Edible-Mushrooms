{
 "cells": [
  {
   "cell_type": "markdown",
   "id": "b093c149",
   "metadata": {},
   "source": [
    "# Machine Learning Model to Safeguard Foragers by Distinguishing Poisonous from Edible Mushrooms"
   ]
  },
  {
   "cell_type": "code",
   "execution_count": 216,
   "id": "4bf13160",
   "metadata": {},
   "outputs": [],
   "source": [
    "import numpy as np\n",
    "import pandas as pd\n",
    "import matplotlib.pyplot as plt\n",
    "import seaborn as sns\n",
    "\n",
    "import warnings\n",
    "warnings.filterwarnings('ignore')"
   ]
  },
  {
   "cell_type": "code",
   "execution_count": 217,
   "id": "39982661",
   "metadata": {},
   "outputs": [],
   "source": [
    "data_1=pd.read_csv('Project_Data.csv')\n",
    "data_2=pd.read_csv('Project_Data_2.csv')"
   ]
  },
  {
   "cell_type": "markdown",
   "id": "4fac5fb0",
   "metadata": {},
   "source": [
    "# 1. Exploratory Data Analysis  of data_1"
   ]
  },
  {
   "cell_type": "code",
   "execution_count": 218,
   "id": "de009ed0",
   "metadata": {
    "scrolled": true
   },
   "outputs": [
    {
     "data": {
      "text/html": [
       "<div>\n",
       "<style scoped>\n",
       "    .dataframe tbody tr th:only-of-type {\n",
       "        vertical-align: middle;\n",
       "    }\n",
       "\n",
       "    .dataframe tbody tr th {\n",
       "        vertical-align: top;\n",
       "    }\n",
       "\n",
       "    .dataframe thead th {\n",
       "        text-align: right;\n",
       "    }\n",
       "</style>\n",
       "<table border=\"1\" class=\"dataframe\">\n",
       "  <thead>\n",
       "    <tr style=\"text-align: right;\">\n",
       "      <th></th>\n",
       "      <th>class</th>\n",
       "      <th>cap-diameter</th>\n",
       "      <th>cap-shape</th>\n",
       "      <th>cap-surface</th>\n",
       "      <th>cap-color</th>\n",
       "      <th>does-bruise-or-bleed</th>\n",
       "      <th>gill-attachment</th>\n",
       "      <th>gill-spacing</th>\n",
       "      <th>gill-color</th>\n",
       "      <th>stem-height</th>\n",
       "      <th>...</th>\n",
       "      <th>stem-root</th>\n",
       "      <th>stem-surface</th>\n",
       "      <th>stem-color</th>\n",
       "      <th>veil-type</th>\n",
       "      <th>veil-color</th>\n",
       "      <th>has-ring</th>\n",
       "      <th>ring-type</th>\n",
       "      <th>spore-print-color</th>\n",
       "      <th>habitat</th>\n",
       "      <th>season</th>\n",
       "    </tr>\n",
       "  </thead>\n",
       "  <tbody>\n",
       "    <tr>\n",
       "      <th>0</th>\n",
       "      <td>p</td>\n",
       "      <td>15.26</td>\n",
       "      <td>x</td>\n",
       "      <td>g</td>\n",
       "      <td>o</td>\n",
       "      <td>f</td>\n",
       "      <td>e</td>\n",
       "      <td>NaN</td>\n",
       "      <td>w</td>\n",
       "      <td>16.95</td>\n",
       "      <td>...</td>\n",
       "      <td>s</td>\n",
       "      <td>y</td>\n",
       "      <td>w</td>\n",
       "      <td>u</td>\n",
       "      <td>w</td>\n",
       "      <td>t</td>\n",
       "      <td>g</td>\n",
       "      <td>NaN</td>\n",
       "      <td>d</td>\n",
       "      <td>w</td>\n",
       "    </tr>\n",
       "    <tr>\n",
       "      <th>1</th>\n",
       "      <td>p</td>\n",
       "      <td>16.60</td>\n",
       "      <td>x</td>\n",
       "      <td>g</td>\n",
       "      <td>o</td>\n",
       "      <td>f</td>\n",
       "      <td>e</td>\n",
       "      <td>NaN</td>\n",
       "      <td>w</td>\n",
       "      <td>17.99</td>\n",
       "      <td>...</td>\n",
       "      <td>s</td>\n",
       "      <td>y</td>\n",
       "      <td>w</td>\n",
       "      <td>u</td>\n",
       "      <td>w</td>\n",
       "      <td>t</td>\n",
       "      <td>g</td>\n",
       "      <td>NaN</td>\n",
       "      <td>d</td>\n",
       "      <td>u</td>\n",
       "    </tr>\n",
       "    <tr>\n",
       "      <th>2</th>\n",
       "      <td>p</td>\n",
       "      <td>14.07</td>\n",
       "      <td>x</td>\n",
       "      <td>g</td>\n",
       "      <td>o</td>\n",
       "      <td>f</td>\n",
       "      <td>e</td>\n",
       "      <td>NaN</td>\n",
       "      <td>w</td>\n",
       "      <td>17.80</td>\n",
       "      <td>...</td>\n",
       "      <td>s</td>\n",
       "      <td>y</td>\n",
       "      <td>w</td>\n",
       "      <td>u</td>\n",
       "      <td>w</td>\n",
       "      <td>t</td>\n",
       "      <td>g</td>\n",
       "      <td>NaN</td>\n",
       "      <td>d</td>\n",
       "      <td>w</td>\n",
       "    </tr>\n",
       "    <tr>\n",
       "      <th>3</th>\n",
       "      <td>p</td>\n",
       "      <td>14.17</td>\n",
       "      <td>f</td>\n",
       "      <td>h</td>\n",
       "      <td>e</td>\n",
       "      <td>f</td>\n",
       "      <td>e</td>\n",
       "      <td>NaN</td>\n",
       "      <td>w</td>\n",
       "      <td>15.77</td>\n",
       "      <td>...</td>\n",
       "      <td>s</td>\n",
       "      <td>y</td>\n",
       "      <td>w</td>\n",
       "      <td>u</td>\n",
       "      <td>w</td>\n",
       "      <td>t</td>\n",
       "      <td>p</td>\n",
       "      <td>NaN</td>\n",
       "      <td>d</td>\n",
       "      <td>w</td>\n",
       "    </tr>\n",
       "    <tr>\n",
       "      <th>4</th>\n",
       "      <td>p</td>\n",
       "      <td>14.64</td>\n",
       "      <td>x</td>\n",
       "      <td>h</td>\n",
       "      <td>o</td>\n",
       "      <td>f</td>\n",
       "      <td>e</td>\n",
       "      <td>NaN</td>\n",
       "      <td>w</td>\n",
       "      <td>16.53</td>\n",
       "      <td>...</td>\n",
       "      <td>s</td>\n",
       "      <td>y</td>\n",
       "      <td>w</td>\n",
       "      <td>u</td>\n",
       "      <td>w</td>\n",
       "      <td>t</td>\n",
       "      <td>p</td>\n",
       "      <td>NaN</td>\n",
       "      <td>d</td>\n",
       "      <td>w</td>\n",
       "    </tr>\n",
       "  </tbody>\n",
       "</table>\n",
       "<p>5 rows × 21 columns</p>\n",
       "</div>"
      ],
      "text/plain": [
       "  class  cap-diameter cap-shape cap-surface cap-color does-bruise-or-bleed  \\\n",
       "0     p         15.26         x           g         o                    f   \n",
       "1     p         16.60         x           g         o                    f   \n",
       "2     p         14.07         x           g         o                    f   \n",
       "3     p         14.17         f           h         e                    f   \n",
       "4     p         14.64         x           h         o                    f   \n",
       "\n",
       "  gill-attachment gill-spacing gill-color  stem-height  ...  stem-root  \\\n",
       "0               e          NaN          w        16.95  ...          s   \n",
       "1               e          NaN          w        17.99  ...          s   \n",
       "2               e          NaN          w        17.80  ...          s   \n",
       "3               e          NaN          w        15.77  ...          s   \n",
       "4               e          NaN          w        16.53  ...          s   \n",
       "\n",
       "  stem-surface stem-color veil-type veil-color has-ring ring-type  \\\n",
       "0            y          w         u          w        t         g   \n",
       "1            y          w         u          w        t         g   \n",
       "2            y          w         u          w        t         g   \n",
       "3            y          w         u          w        t         p   \n",
       "4            y          w         u          w        t         p   \n",
       "\n",
       "  spore-print-color habitat season  \n",
       "0               NaN       d      w  \n",
       "1               NaN       d      u  \n",
       "2               NaN       d      w  \n",
       "3               NaN       d      w  \n",
       "4               NaN       d      w  \n",
       "\n",
       "[5 rows x 21 columns]"
      ]
     },
     "execution_count": 218,
     "metadata": {},
     "output_type": "execute_result"
    }
   ],
   "source": [
    "data_1.head()"
   ]
  },
  {
   "cell_type": "code",
   "execution_count": 219,
   "id": "bf5a5bfb",
   "metadata": {},
   "outputs": [
    {
     "data": {
      "text/html": [
       "<div>\n",
       "<style scoped>\n",
       "    .dataframe tbody tr th:only-of-type {\n",
       "        vertical-align: middle;\n",
       "    }\n",
       "\n",
       "    .dataframe tbody tr th {\n",
       "        vertical-align: top;\n",
       "    }\n",
       "\n",
       "    .dataframe thead th {\n",
       "        text-align: right;\n",
       "    }\n",
       "</style>\n",
       "<table border=\"1\" class=\"dataframe\">\n",
       "  <thead>\n",
       "    <tr style=\"text-align: right;\">\n",
       "      <th></th>\n",
       "      <th>class</th>\n",
       "      <th>cap-diameter</th>\n",
       "      <th>cap-shape</th>\n",
       "      <th>cap-surface</th>\n",
       "      <th>cap-color</th>\n",
       "      <th>does-bruise-or-bleed</th>\n",
       "      <th>gill-attachment</th>\n",
       "      <th>gill-spacing</th>\n",
       "      <th>gill-color</th>\n",
       "      <th>stem-height</th>\n",
       "      <th>...</th>\n",
       "      <th>stem-root</th>\n",
       "      <th>stem-surface</th>\n",
       "      <th>stem-color</th>\n",
       "      <th>veil-type</th>\n",
       "      <th>veil-color</th>\n",
       "      <th>has-ring</th>\n",
       "      <th>ring-type</th>\n",
       "      <th>spore-print-color</th>\n",
       "      <th>habitat</th>\n",
       "      <th>season</th>\n",
       "    </tr>\n",
       "  </thead>\n",
       "  <tbody>\n",
       "    <tr>\n",
       "      <th>61064</th>\n",
       "      <td>p</td>\n",
       "      <td>1.18</td>\n",
       "      <td>s</td>\n",
       "      <td>s</td>\n",
       "      <td>y</td>\n",
       "      <td>f</td>\n",
       "      <td>f</td>\n",
       "      <td>f</td>\n",
       "      <td>f</td>\n",
       "      <td>3.93</td>\n",
       "      <td>...</td>\n",
       "      <td>NaN</td>\n",
       "      <td>NaN</td>\n",
       "      <td>y</td>\n",
       "      <td>NaN</td>\n",
       "      <td>NaN</td>\n",
       "      <td>f</td>\n",
       "      <td>f</td>\n",
       "      <td>NaN</td>\n",
       "      <td>d</td>\n",
       "      <td>a</td>\n",
       "    </tr>\n",
       "    <tr>\n",
       "      <th>61065</th>\n",
       "      <td>p</td>\n",
       "      <td>1.27</td>\n",
       "      <td>f</td>\n",
       "      <td>s</td>\n",
       "      <td>y</td>\n",
       "      <td>f</td>\n",
       "      <td>f</td>\n",
       "      <td>f</td>\n",
       "      <td>f</td>\n",
       "      <td>3.18</td>\n",
       "      <td>...</td>\n",
       "      <td>NaN</td>\n",
       "      <td>NaN</td>\n",
       "      <td>y</td>\n",
       "      <td>NaN</td>\n",
       "      <td>NaN</td>\n",
       "      <td>f</td>\n",
       "      <td>f</td>\n",
       "      <td>NaN</td>\n",
       "      <td>d</td>\n",
       "      <td>a</td>\n",
       "    </tr>\n",
       "    <tr>\n",
       "      <th>61066</th>\n",
       "      <td>p</td>\n",
       "      <td>1.27</td>\n",
       "      <td>s</td>\n",
       "      <td>s</td>\n",
       "      <td>y</td>\n",
       "      <td>f</td>\n",
       "      <td>f</td>\n",
       "      <td>f</td>\n",
       "      <td>f</td>\n",
       "      <td>3.86</td>\n",
       "      <td>...</td>\n",
       "      <td>NaN</td>\n",
       "      <td>NaN</td>\n",
       "      <td>y</td>\n",
       "      <td>NaN</td>\n",
       "      <td>NaN</td>\n",
       "      <td>f</td>\n",
       "      <td>f</td>\n",
       "      <td>NaN</td>\n",
       "      <td>d</td>\n",
       "      <td>u</td>\n",
       "    </tr>\n",
       "    <tr>\n",
       "      <th>61067</th>\n",
       "      <td>p</td>\n",
       "      <td>1.24</td>\n",
       "      <td>f</td>\n",
       "      <td>s</td>\n",
       "      <td>y</td>\n",
       "      <td>f</td>\n",
       "      <td>f</td>\n",
       "      <td>f</td>\n",
       "      <td>f</td>\n",
       "      <td>3.56</td>\n",
       "      <td>...</td>\n",
       "      <td>NaN</td>\n",
       "      <td>NaN</td>\n",
       "      <td>y</td>\n",
       "      <td>NaN</td>\n",
       "      <td>NaN</td>\n",
       "      <td>f</td>\n",
       "      <td>f</td>\n",
       "      <td>NaN</td>\n",
       "      <td>d</td>\n",
       "      <td>u</td>\n",
       "    </tr>\n",
       "    <tr>\n",
       "      <th>61068</th>\n",
       "      <td>p</td>\n",
       "      <td>1.17</td>\n",
       "      <td>s</td>\n",
       "      <td>s</td>\n",
       "      <td>y</td>\n",
       "      <td>f</td>\n",
       "      <td>f</td>\n",
       "      <td>f</td>\n",
       "      <td>f</td>\n",
       "      <td>3.25</td>\n",
       "      <td>...</td>\n",
       "      <td>NaN</td>\n",
       "      <td>NaN</td>\n",
       "      <td>y</td>\n",
       "      <td>NaN</td>\n",
       "      <td>NaN</td>\n",
       "      <td>f</td>\n",
       "      <td>f</td>\n",
       "      <td>NaN</td>\n",
       "      <td>d</td>\n",
       "      <td>u</td>\n",
       "    </tr>\n",
       "  </tbody>\n",
       "</table>\n",
       "<p>5 rows × 21 columns</p>\n",
       "</div>"
      ],
      "text/plain": [
       "      class  cap-diameter cap-shape cap-surface cap-color  \\\n",
       "61064     p          1.18         s           s         y   \n",
       "61065     p          1.27         f           s         y   \n",
       "61066     p          1.27         s           s         y   \n",
       "61067     p          1.24         f           s         y   \n",
       "61068     p          1.17         s           s         y   \n",
       "\n",
       "      does-bruise-or-bleed gill-attachment gill-spacing gill-color  \\\n",
       "61064                    f               f            f          f   \n",
       "61065                    f               f            f          f   \n",
       "61066                    f               f            f          f   \n",
       "61067                    f               f            f          f   \n",
       "61068                    f               f            f          f   \n",
       "\n",
       "       stem-height  ...  stem-root stem-surface stem-color veil-type  \\\n",
       "61064         3.93  ...        NaN          NaN          y       NaN   \n",
       "61065         3.18  ...        NaN          NaN          y       NaN   \n",
       "61066         3.86  ...        NaN          NaN          y       NaN   \n",
       "61067         3.56  ...        NaN          NaN          y       NaN   \n",
       "61068         3.25  ...        NaN          NaN          y       NaN   \n",
       "\n",
       "      veil-color has-ring ring-type spore-print-color habitat season  \n",
       "61064        NaN        f         f               NaN       d      a  \n",
       "61065        NaN        f         f               NaN       d      a  \n",
       "61066        NaN        f         f               NaN       d      u  \n",
       "61067        NaN        f         f               NaN       d      u  \n",
       "61068        NaN        f         f               NaN       d      u  \n",
       "\n",
       "[5 rows x 21 columns]"
      ]
     },
     "execution_count": 219,
     "metadata": {},
     "output_type": "execute_result"
    }
   ],
   "source": [
    "data_1.tail()"
   ]
  },
  {
   "cell_type": "code",
   "execution_count": 220,
   "id": "0eb99827",
   "metadata": {},
   "outputs": [
    {
     "name": "stdout",
     "output_type": "stream",
     "text": [
      "<class 'pandas.core.frame.DataFrame'>\n",
      "RangeIndex: 61069 entries, 0 to 61068\n",
      "Data columns (total 21 columns):\n",
      " #   Column                Non-Null Count  Dtype  \n",
      "---  ------                --------------  -----  \n",
      " 0   class                 61069 non-null  object \n",
      " 1   cap-diameter          61069 non-null  float64\n",
      " 2   cap-shape             61069 non-null  object \n",
      " 3   cap-surface           46949 non-null  object \n",
      " 4   cap-color             61069 non-null  object \n",
      " 5   does-bruise-or-bleed  61069 non-null  object \n",
      " 6   gill-attachment       51185 non-null  object \n",
      " 7   gill-spacing          36006 non-null  object \n",
      " 8   gill-color            61069 non-null  object \n",
      " 9   stem-height           61069 non-null  float64\n",
      " 10  stem-width            61069 non-null  float64\n",
      " 11  stem-root             9531 non-null   object \n",
      " 12  stem-surface          22945 non-null  object \n",
      " 13  stem-color            61069 non-null  object \n",
      " 14  veil-type             3177 non-null   object \n",
      " 15  veil-color            7413 non-null   object \n",
      " 16  has-ring              61069 non-null  object \n",
      " 17  ring-type             58598 non-null  object \n",
      " 18  spore-print-color     6354 non-null   object \n",
      " 19  habitat               61069 non-null  object \n",
      " 20  season                61069 non-null  object \n",
      "dtypes: float64(3), object(18)\n",
      "memory usage: 9.8+ MB\n"
     ]
    }
   ],
   "source": [
    "data_1.info()"
   ]
  },
  {
   "cell_type": "code",
   "execution_count": 221,
   "id": "35c1569f",
   "metadata": {},
   "outputs": [
    {
     "data": {
      "text/plain": [
       "class                       0\n",
       "cap-diameter                0\n",
       "cap-shape                   0\n",
       "cap-surface             14120\n",
       "cap-color                   0\n",
       "does-bruise-or-bleed        0\n",
       "gill-attachment          9884\n",
       "gill-spacing            25063\n",
       "gill-color                  0\n",
       "stem-height                 0\n",
       "stem-width                  0\n",
       "stem-root               51538\n",
       "stem-surface            38124\n",
       "stem-color                  0\n",
       "veil-type               57892\n",
       "veil-color              53656\n",
       "has-ring                    0\n",
       "ring-type                2471\n",
       "spore-print-color       54715\n",
       "habitat                     0\n",
       "season                      0\n",
       "dtype: int64"
      ]
     },
     "execution_count": 221,
     "metadata": {},
     "output_type": "execute_result"
    }
   ],
   "source": [
    "data_1.isna().sum()"
   ]
  },
  {
   "cell_type": "code",
   "execution_count": 222,
   "id": "3c451909",
   "metadata": {},
   "outputs": [
    {
     "name": "stdout",
     "output_type": "stream",
     "text": [
      "Shape of the data:  (61069, 21)\n",
      "Size of the data:  1282449\n"
     ]
    }
   ],
   "source": [
    "print('Shape of the data: ',data_1.shape)\n",
    "print('Size of the data: ',data_1.size)"
   ]
  },
  {
   "cell_type": "code",
   "execution_count": 223,
   "id": "0cd0dacb",
   "metadata": {},
   "outputs": [
    {
     "data": {
      "text/plain": [
       "<seaborn.axisgrid.PairGrid at 0x1f7423d8b20>"
      ]
     },
     "execution_count": 223,
     "metadata": {},
     "output_type": "execute_result"
    }
   ],
   "source": [
    "sns.pairplot(data=data_1[['class','cap-diameter','stem-height','stem-width']])"
   ]
  },
  {
   "cell_type": "markdown",
   "id": "df228720",
   "metadata": {},
   "source": [
    "# 2. Preprocessing of data_1"
   ]
  },
  {
   "cell_type": "code",
   "execution_count": 224,
   "id": "9e03e363",
   "metadata": {},
   "outputs": [
    {
     "name": "stdout",
     "output_type": "stream",
     "text": [
      "<class 'pandas.core.frame.DataFrame'>\n",
      "RangeIndex: 61069 entries, 0 to 61068\n",
      "Data columns (total 21 columns):\n",
      " #   Column                Non-Null Count  Dtype  \n",
      "---  ------                --------------  -----  \n",
      " 0   class                 61069 non-null  object \n",
      " 1   cap-diameter          61069 non-null  float64\n",
      " 2   cap-shape             61069 non-null  object \n",
      " 3   cap-surface           46949 non-null  object \n",
      " 4   cap-color             61069 non-null  object \n",
      " 5   does-bruise-or-bleed  61069 non-null  object \n",
      " 6   gill-attachment       51185 non-null  object \n",
      " 7   gill-spacing          36006 non-null  object \n",
      " 8   gill-color            61069 non-null  object \n",
      " 9   stem-height           61069 non-null  float64\n",
      " 10  stem-width            61069 non-null  float64\n",
      " 11  stem-root             9531 non-null   object \n",
      " 12  stem-surface          22945 non-null  object \n",
      " 13  stem-color            61069 non-null  object \n",
      " 14  veil-type             3177 non-null   object \n",
      " 15  veil-color            7413 non-null   object \n",
      " 16  has-ring              61069 non-null  object \n",
      " 17  ring-type             58598 non-null  object \n",
      " 18  spore-print-color     6354 non-null   object \n",
      " 19  habitat               61069 non-null  object \n",
      " 20  season                61069 non-null  object \n",
      "dtypes: float64(3), object(18)\n",
      "memory usage: 9.8+ MB\n"
     ]
    }
   ],
   "source": [
    "data_1.info()"
   ]
  },
  {
   "cell_type": "code",
   "execution_count": 225,
   "id": "48d11ea3",
   "metadata": {},
   "outputs": [
    {
     "data": {
      "text/plain": [
       "class                       0\n",
       "cap-diameter                0\n",
       "cap-shape                   0\n",
       "cap-surface             14120\n",
       "cap-color                   0\n",
       "does-bruise-or-bleed        0\n",
       "gill-attachment          9884\n",
       "gill-spacing            25063\n",
       "gill-color                  0\n",
       "stem-height                 0\n",
       "stem-width                  0\n",
       "stem-root               51538\n",
       "stem-surface            38124\n",
       "stem-color                  0\n",
       "veil-type               57892\n",
       "veil-color              53656\n",
       "has-ring                    0\n",
       "ring-type                2471\n",
       "spore-print-color       54715\n",
       "habitat                     0\n",
       "season                      0\n",
       "dtype: int64"
      ]
     },
     "execution_count": 225,
     "metadata": {},
     "output_type": "execute_result"
    }
   ],
   "source": [
    "data_1.isna().sum()"
   ]
  },
  {
   "cell_type": "markdown",
   "id": "f9ec074b",
   "metadata": {},
   "source": [
    "## 2.1 Filling null values in cap-surface column"
   ]
  },
  {
   "cell_type": "code",
   "execution_count": 226,
   "id": "99535ca8",
   "metadata": {},
   "outputs": [
    {
     "data": {
      "text/plain": [
       "t    8196\n",
       "s    7608\n",
       "y    6341\n",
       "h    4974\n",
       "g    4724\n",
       "d    4432\n",
       "e    2584\n",
       "k    2303\n",
       "i    2225\n",
       "w    2150\n",
       "l    1412\n",
       "Name: cap-surface, dtype: int64"
      ]
     },
     "execution_count": 226,
     "metadata": {},
     "output_type": "execute_result"
    }
   ],
   "source": [
    "data_1['cap-surface'].value_counts()"
   ]
  },
  {
   "cell_type": "markdown",
   "id": "842bfd13",
   "metadata": {},
   "source": [
    "### The cap surface of poisonous mushrooms\n",
    "### 1.sticky-->t\n",
    "### 2.scaly-->y\n",
    "### 3.fibrous-->i\n",
    "\n",
    "### The cap surface of non-poisonous mushrooms\n",
    "### 1.smooth-->s\n",
    "### 2.fleshy-->e\n",
    "### 3.silky-->k"
   ]
  },
  {
   "cell_type": "code",
   "execution_count": 227,
   "id": "8f20f1dc",
   "metadata": {},
   "outputs": [],
   "source": [
    "# filling class poisionous(p) with sticky(t),scaly(y),fibrous(i) as it is the majority value in the column.\n",
    "val=['t','y','i']\n",
    "missing_indices = data_1[(data_1['class'] == 'p') & (data_1['cap-surface'].isna())].index\n",
    "data_1.loc[missing_indices, 'cap-surface'] = np.random.choice(val, size=len(missing_indices))"
   ]
  },
  {
   "cell_type": "code",
   "execution_count": 228,
   "id": "b0c50da4",
   "metadata": {},
   "outputs": [],
   "source": [
    "# filling class edible(e) with smooth(s) as it is the 2nd majority value in the column.\n",
    "val_1=['s','e','k']\n",
    "missing_indices_1 = data_1[(data_1['class'] == 'e') & (data_1['cap-surface'].isna())].index\n",
    "data_1.loc[missing_indices_1, 'cap-surface'] = np.random.choice(val_1, size=len(missing_indices_1))\n",
    "    "
   ]
  },
  {
   "cell_type": "markdown",
   "id": "a2462b47",
   "metadata": {},
   "source": [
    "## 2.2 Filling null values in gill-attachment column"
   ]
  },
  {
   "cell_type": "code",
   "execution_count": 229,
   "id": "2e730a2c",
   "metadata": {},
   "outputs": [
    {
     "data": {
      "text/plain": [
       "a    12698\n",
       "d    10247\n",
       "x     7413\n",
       "p     6001\n",
       "e     5648\n",
       "s     5648\n",
       "f     3530\n",
       "Name: gill-attachment, dtype: int64"
      ]
     },
     "execution_count": 229,
     "metadata": {},
     "output_type": "execute_result"
    }
   ],
   "source": [
    "data_1['gill-attachment'].value_counts()"
   ]
  },
  {
   "cell_type": "markdown",
   "id": "e6c58837",
   "metadata": {},
   "source": [
    "### since gill-attachment is not important in determining wheather the mushroomis poisonous or edible"
   ]
  },
  {
   "cell_type": "code",
   "execution_count": 230,
   "id": "c14dc374",
   "metadata": {},
   "outputs": [],
   "source": [
    "# randomly filling the values \n",
    "value=['a','d','x','p','e','s','f']\n",
    "fill_value=np.random.choice(len(value),size=data_1['gill-attachment'].isna().sum())\n",
    "data_1.loc[data_1['gill-attachment'].isna(),'gill-attachment']=[value[i] for i in fill_value]"
   ]
  },
  {
   "cell_type": "markdown",
   "id": "3c3c8911",
   "metadata": {},
   "source": [
    "## 2.3 Filling null values in gill-spacing column"
   ]
  },
  {
   "cell_type": "code",
   "execution_count": 231,
   "id": "14a5514c",
   "metadata": {},
   "outputs": [
    {
     "data": {
      "text/plain": [
       "c    24710\n",
       "d     7766\n",
       "f     3530\n",
       "Name: gill-spacing, dtype: int64"
      ]
     },
     "execution_count": 231,
     "metadata": {},
     "output_type": "execute_result"
    }
   ],
   "source": [
    "data_1['gill-spacing'].value_counts()"
   ]
  },
  {
   "cell_type": "markdown",
   "id": "438e75c3",
   "metadata": {},
   "source": [
    "### Gill spacing is one of the characteristics used in the identification of mushrooms, but it is not a definitive factor in determining whether a mushroom is poisonous or edible."
   ]
  },
  {
   "cell_type": "code",
   "execution_count": 232,
   "id": "0fc93314",
   "metadata": {},
   "outputs": [],
   "source": [
    "# Many edible mushrooms have close(c) gill-spacing\n",
    "cond_1=data_1['class']=='e'\n",
    "data_1.loc[cond_1,'gill-spacing']=data_1.loc[cond_1,'gill-spacing'].fillna(value='c')"
   ]
  },
  {
   "cell_type": "code",
   "execution_count": 233,
   "id": "19816b3b",
   "metadata": {},
   "outputs": [],
   "source": [
    "# Distant(d) gill-spacing is also found in both edible and poisonous mushrooms. so using distant(d) in rows containing \n",
    "# edible(e) in class column.\n",
    "cond_2=data_1['class']=='p'\n",
    "data_1.loc[cond_2,'gill-spacing']=data_1.loc[cond_2,'gill-spacing'].fillna(value='d')"
   ]
  },
  {
   "cell_type": "markdown",
   "id": "78892e52",
   "metadata": {},
   "source": [
    "## 2.4 Filling null values in stem root column"
   ]
  },
  {
   "cell_type": "code",
   "execution_count": 234,
   "id": "0aa6c240",
   "metadata": {},
   "outputs": [
    {
     "data": {
      "text/plain": [
       "s    3177\n",
       "b    3177\n",
       "r    1412\n",
       "f    1059\n",
       "c     706\n",
       "Name: stem-root, dtype: int64"
      ]
     },
     "execution_count": 234,
     "metadata": {},
     "output_type": "execute_result"
    }
   ],
   "source": [
    "data_1['stem-root'].value_counts()"
   ]
  },
  {
   "cell_type": "code",
   "execution_count": 235,
   "id": "f3ed7994",
   "metadata": {},
   "outputs": [],
   "source": [
    "#Determining the edibility or toxicity of a mushroom based solely on the type of stem root can be difficult so we have \n",
    "## randomely fill the data.\n",
    "value_1=['s','b','r','f','c','u','z']\n",
    "fill_value_1=np.random.choice(len(value_1),size=data_1['stem-root'].isna().sum())\n",
    "data_1.loc[data_1['stem-root'].isna(),'stem-root']=[value_1[i] for i in fill_value_1]"
   ]
  },
  {
   "cell_type": "markdown",
   "id": "1bae014e",
   "metadata": {},
   "source": [
    "## 2.5 Filling null values in stem-surface column"
   ]
  },
  {
   "cell_type": "code",
   "execution_count": 236,
   "id": "51ecbb4b",
   "metadata": {},
   "outputs": [
    {
     "data": {
      "text/plain": [
       "s    6025\n",
       "y    4940\n",
       "i    4396\n",
       "t    2644\n",
       "g    1765\n",
       "k    1581\n",
       "f    1059\n",
       "h     535\n",
       "Name: stem-surface, dtype: int64"
      ]
     },
     "execution_count": 236,
     "metadata": {},
     "output_type": "execute_result"
    }
   ],
   "source": [
    "data_1['stem-surface'].value_counts()"
   ]
  },
  {
   "cell_type": "markdown",
   "id": "4db3d05c",
   "metadata": {},
   "source": [
    "### Since stem-surface has 38124 null values and its difficult to determine its surface based on cap color or any other featurs it is better to drop the column."
   ]
  },
  {
   "cell_type": "code",
   "execution_count": 237,
   "id": "8e84a849",
   "metadata": {},
   "outputs": [],
   "source": [
    "data_1.drop('stem-surface', axis=1,inplace=True)"
   ]
  },
  {
   "cell_type": "markdown",
   "id": "01d885f6",
   "metadata": {},
   "source": [
    "## 2.6 Filling null values in veil-type column"
   ]
  },
  {
   "cell_type": "code",
   "execution_count": 238,
   "id": "d88dd9e1",
   "metadata": {},
   "outputs": [
    {
     "data": {
      "text/plain": [
       "u    3177\n",
       "Name: veil-type, dtype: int64"
      ]
     },
     "execution_count": 238,
     "metadata": {},
     "output_type": "execute_result"
    }
   ],
   "source": [
    "data_1['veil-type'].value_counts()"
   ]
  },
  {
   "cell_type": "code",
   "execution_count": 239,
   "id": "d158df55",
   "metadata": {},
   "outputs": [],
   "source": [
    "# since veil-type column has only one value it does not effet the moldel hence we can drop the column.\n",
    "data_1.drop('veil-type', axis=1,inplace=True)"
   ]
  },
  {
   "cell_type": "markdown",
   "id": "cf57d9b9",
   "metadata": {},
   "source": [
    "## 2.7 Filling null values in veil-color column"
   ]
  },
  {
   "cell_type": "code",
   "execution_count": 240,
   "id": "b86aafdb",
   "metadata": {},
   "outputs": [
    {
     "data": {
      "text/plain": [
       "w    5474\n",
       "y     527\n",
       "n     525\n",
       "u     353\n",
       "k     353\n",
       "e     181\n",
       "Name: veil-color, dtype: int64"
      ]
     },
     "execution_count": 240,
     "metadata": {},
     "output_type": "execute_result"
    }
   ],
   "source": [
    "data_1['veil-color'].value_counts()"
   ]
  },
  {
   "cell_type": "code",
   "execution_count": 241,
   "id": "0e51d53d",
   "metadata": {},
   "outputs": [],
   "source": [
    "#White or Light-Colored Caps:\n",
    "#Mushrooms with white or light-colored caps may have a veil that is also white or light in color. This is a common \n",
    "#association, but there are exceptions.\n",
    "\n",
    "#Cream or Yellowish Caps:\n",
    "#Similarly, mushrooms with cream or yellowish caps may have a veil that reflects those colors.\n",
    "#Brown or Dark-Colored Caps:\n",
    "\n",
    "#Some mushrooms with brown or dark-colored caps may have a veil that matches the cap color, while others may have a veil \n",
    "#that is lighter in color.\n",
    "\n",
    "#Red or Rust-Colored Caps:\n",
    "#For mushrooms with red or rust-colored caps, the veil color might vary. It can be in the same color spectrum or different.\n",
    "\n",
    "# so let us consider the corresponding cap color as veil color.\n",
    "\n",
    "n=data_1['cap-color']=='n'\n",
    "data_1.loc[n,'veil-color']=data_1.loc[n,'veil-color'].fillna(value='n')\n",
    "\n",
    "b=data_1['cap-color']=='b'\n",
    "data_1.loc[b,'veil-color']=data_1.loc[b,'veil-color'].fillna(value='b')\n",
    "\n",
    "g=data_1['cap-color']=='g'\n",
    "data_1.loc[g,'veil-color']=data_1.loc[g,'veil-color'].fillna(value='g')\n",
    "\n",
    "r=data_1['cap-color']=='r'\n",
    "data_1.loc[r,'veil-color']=data_1.loc[r,'veil-color'].fillna(value='r')\n",
    "\n",
    "p=data_1['cap-color']=='p'\n",
    "data_1.loc[p,'veil-color']=data_1.loc[p,'veil-color'].fillna(value='p')\n",
    "\n",
    "u=data_1['cap-color']=='u'\n",
    "data_1.loc[u,'veil-color']=data_1.loc[u,'veil-color'].fillna(value='u')\n",
    "\n",
    "e=data_1['cap-color']=='e'\n",
    "data_1.loc[e,'veil-color']=data_1.loc[e,'veil-color'].fillna(value='e')\n",
    "\n",
    "w=data_1['cap-color']=='w'\n",
    "data_1.loc[w,'veil-color']=data_1.loc[w,'veil-color'].fillna(value='w')\n",
    "\n",
    "y=data_1['cap-color']=='y'\n",
    "data_1.loc[y,'veil-color']=data_1.loc[y,'veil-color'].fillna(value='y')\n",
    "\n",
    "l=data_1['cap-color']=='l'\n",
    "data_1.loc[l,'veil-color']=data_1.loc[l,'veil-color'].fillna(value='l')\n",
    "\n",
    "o=data_1['cap-color']=='o'\n",
    "data_1.loc[o,'veil-color']=data_1.loc[o,'veil-color'].fillna(value='o')\n",
    "\n",
    "k=data_1['cap-color']=='k'\n",
    "data_1.loc[k,'veil-color']=data_1.loc[k,'veil-color'].fillna(value='k')"
   ]
  },
  {
   "cell_type": "markdown",
   "id": "f9733057",
   "metadata": {},
   "source": [
    "## 2.8 Filling null values in ring-type column"
   ]
  },
  {
   "cell_type": "code",
   "execution_count": 242,
   "id": "ef34ab44",
   "metadata": {},
   "outputs": [
    {
     "data": {
      "text/plain": [
       "f    48361\n",
       "e     2435\n",
       "z     2118\n",
       "l     1427\n",
       "r     1399\n",
       "p     1265\n",
       "g     1240\n",
       "m      353\n",
       "Name: ring-type, dtype: int64"
      ]
     },
     "execution_count": 242,
     "metadata": {},
     "output_type": "execute_result"
    }
   ],
   "source": [
    "data_1['ring-type'].value_counts()"
   ]
  },
  {
   "cell_type": "code",
   "execution_count": 243,
   "id": "f7eea069",
   "metadata": {},
   "outputs": [],
   "source": [
    "#since the majority value of ring-type is none(f) so we can fill the remaining as f.\n",
    "data_1['ring-type']=data_1['ring-type'].fillna(value='f')"
   ]
  },
  {
   "cell_type": "markdown",
   "id": "0007fbb5",
   "metadata": {},
   "source": [
    "## 2.9 Filling null values in spore-print-color column"
   ]
  },
  {
   "cell_type": "code",
   "execution_count": 244,
   "id": "aa50c46d",
   "metadata": {},
   "outputs": [
    {
     "data": {
      "text/plain": [
       "k    2118\n",
       "p    1259\n",
       "w    1212\n",
       "n    1059\n",
       "g     353\n",
       "u     182\n",
       "r     171\n",
       "Name: spore-print-color, dtype: int64"
      ]
     },
     "execution_count": 244,
     "metadata": {},
     "output_type": "execute_result"
    }
   ],
   "source": [
    "data_1['spore-print-color'].value_counts()"
   ]
  },
  {
   "cell_type": "code",
   "execution_count": 245,
   "id": "81531a46",
   "metadata": {},
   "outputs": [],
   "source": [
    "# the lack of a ring can be helpful in narrowing down your search for the identity of the mushroom, and some groups of \n",
    "#mushrooms generally lack rings and have specific spore print colors. Here are some examples:\n",
    "\n",
    "#Gilled mushrooms without rings:\n",
    "#Spore print:\n",
    "#White: Chanterelles, Button mushrooms, Oyster mushrooms\n",
    "#Cream/Buff: Field mushrooms, Honey mushrooms\n",
    "#Pink: Blushers, Lactarius species\n",
    "#Brown: Boletes, Lepistas, Stropharia species\n",
    "#Black: Ink caps, Coprinus species\n",
    "\n",
    "\n",
    "\n",
    "value_2=['w','b','p','n','k']\n",
    "missing_indices_2=data_1[(data_1['ring-type']=='f')|(data_1['spore-print-color'].isna())].index\n",
    "data_1.loc[missing_indices_2,'spore-print-color']=np.random.choice(value_2,size=len(missing_indices_2))\n",
    "\n",
    "value_3=['g','r','u','e','y','l','o']\n",
    "missing_indices_3=data_1[(data_1['ring-type']!='f')|(data_1['spore-print-color'].isna())].index\n",
    "data_1.loc[missing_indices_3,'spore-print-color']=np.random.choice(value_3,size=len(missing_indices_3))"
   ]
  },
  {
   "cell_type": "code",
   "execution_count": 246,
   "id": "5b832d18",
   "metadata": {},
   "outputs": [
    {
     "name": "stdout",
     "output_type": "stream",
     "text": [
      "<class 'pandas.core.frame.DataFrame'>\n",
      "RangeIndex: 61069 entries, 0 to 61068\n",
      "Data columns (total 19 columns):\n",
      " #   Column                Non-Null Count  Dtype  \n",
      "---  ------                --------------  -----  \n",
      " 0   class                 61069 non-null  object \n",
      " 1   cap-diameter          61069 non-null  float64\n",
      " 2   cap-shape             61069 non-null  object \n",
      " 3   cap-surface           61069 non-null  object \n",
      " 4   cap-color             61069 non-null  object \n",
      " 5   does-bruise-or-bleed  61069 non-null  object \n",
      " 6   gill-attachment       61069 non-null  object \n",
      " 7   gill-spacing          61069 non-null  object \n",
      " 8   gill-color            61069 non-null  object \n",
      " 9   stem-height           61069 non-null  float64\n",
      " 10  stem-width            61069 non-null  float64\n",
      " 11  stem-root             61069 non-null  object \n",
      " 12  stem-color            61069 non-null  object \n",
      " 13  veil-color            61069 non-null  object \n",
      " 14  has-ring              61069 non-null  object \n",
      " 15  ring-type             61069 non-null  object \n",
      " 16  spore-print-color     61069 non-null  object \n",
      " 17  habitat               61069 non-null  object \n",
      " 18  season                61069 non-null  object \n",
      "dtypes: float64(3), object(16)\n",
      "memory usage: 8.9+ MB\n"
     ]
    }
   ],
   "source": [
    "data_1.info()"
   ]
  },
  {
   "cell_type": "code",
   "execution_count": 247,
   "id": "07e515b1",
   "metadata": {},
   "outputs": [
    {
     "name": "stdout",
     "output_type": "stream",
     "text": [
      "p    33888\n",
      "e    27181\n",
      "Name: class, dtype: int64\n"
     ]
    },
    {
     "data": {
      "image/png": "[encoded data removed]",
      "text/plain": [
       "<Figure size 1000x800 with 1 Axes>"
      ]
     },
     "metadata": {},
     "output_type": "display_data"
    },
    {
     "data": {
      "image/png": "[encoded data removed]",
      "text/plain": [
       "<Figure size 750x750 with 12 Axes>"
      ]
     },
     "metadata": {},
     "output_type": "display_data"
    }
   ],
   "source": [
    "print(data_1['class'].value_counts())\n",
    "sns.histplot(data_1['class'])\n",
    "plt.xlabel('poisonous (p) or edible (e)')\n",
    "plt.ylabel('total count')\n",
    "plt.show()"
   ]
  },
  {
   "cell_type": "markdown",
   "id": "99c935e9",
   "metadata": {},
   "source": [
    "# 3. Finding out the outliers"
   ]
  },
  {
   "cell_type": "code",
   "execution_count": 248,
   "id": "bb1fbd64",
   "metadata": {},
   "outputs": [
    {
     "data": {
      "image/png": "[encoded data removed]",
      "text/plain": [
       "<Figure size 640x480 with 1 Axes>"
      ]
     },
     "metadata": {},
     "output_type": "display_data"
    }
   ],
   "source": [
    "sns.boxplot(data=data_1)\n",
    "plt.show()"
   ]
  },
  {
   "cell_type": "code",
   "execution_count": 249,
   "id": "c1f75199",
   "metadata": {},
   "outputs": [],
   "source": [
    "# IQR method\n",
    "Q1 = data_1.quantile(0.25)\n",
    "Q3 = data_1.quantile(0.75)\n",
    "IQR = Q3 - Q1\n",
    "\n",
    "# Define a threshold for outliers\n",
    "threshold = 1.5\n",
    "\n",
    "# Identify outliers\n",
    "outliers = ((data_1 < (Q1 - threshold * IQR)) | (data_1 > (Q3 + threshold * IQR))).any(axis=1)\n"
   ]
  },
  {
   "cell_type": "code",
   "execution_count": 250,
   "id": "3ac5e27b",
   "metadata": {},
   "outputs": [
    {
     "data": {
      "text/plain": [
       "False    55729\n",
       "True      5340\n",
       "dtype: int64"
      ]
     },
     "execution_count": 250,
     "metadata": {},
     "output_type": "execute_result"
    }
   ],
   "source": [
    "outliers.value_counts()"
   ]
  },
  {
   "cell_type": "code",
   "execution_count": 251,
   "id": "f83090a4",
   "metadata": {},
   "outputs": [
    {
     "data": {
      "text/html": [
       "<div>\n",
       "<style scoped>\n",
       "    .dataframe tbody tr th:only-of-type {\n",
       "        vertical-align: middle;\n",
       "    }\n",
       "\n",
       "    .dataframe tbody tr th {\n",
       "        vertical-align: top;\n",
       "    }\n",
       "\n",
       "    .dataframe thead th {\n",
       "        text-align: right;\n",
       "    }\n",
       "</style>\n",
       "<table border=\"1\" class=\"dataframe\">\n",
       "  <thead>\n",
       "    <tr style=\"text-align: right;\">\n",
       "      <th></th>\n",
       "      <th>class</th>\n",
       "      <th>cap-diameter</th>\n",
       "      <th>cap-shape</th>\n",
       "      <th>cap-surface</th>\n",
       "      <th>cap-color</th>\n",
       "      <th>does-bruise-or-bleed</th>\n",
       "      <th>gill-attachment</th>\n",
       "      <th>gill-spacing</th>\n",
       "      <th>gill-color</th>\n",
       "      <th>stem-height</th>\n",
       "      <th>stem-width</th>\n",
       "      <th>stem-root</th>\n",
       "      <th>stem-color</th>\n",
       "      <th>veil-color</th>\n",
       "      <th>has-ring</th>\n",
       "      <th>ring-type</th>\n",
       "      <th>spore-print-color</th>\n",
       "      <th>habitat</th>\n",
       "      <th>season</th>\n",
       "    </tr>\n",
       "  </thead>\n",
       "  <tbody>\n",
       "    <tr>\n",
       "      <th>353</th>\n",
       "      <td>p</td>\n",
       "      <td>6.87</td>\n",
       "      <td>x</td>\n",
       "      <td>g</td>\n",
       "      <td>n</td>\n",
       "      <td>f</td>\n",
       "      <td>e</td>\n",
       "      <td>d</td>\n",
       "      <td>w</td>\n",
       "      <td>6.88</td>\n",
       "      <td>13.64</td>\n",
       "      <td>c</td>\n",
       "      <td>w</td>\n",
       "      <td>w</td>\n",
       "      <td>t</td>\n",
       "      <td>p</td>\n",
       "      <td>u</td>\n",
       "      <td>d</td>\n",
       "      <td>a</td>\n",
       "    </tr>\n",
       "    <tr>\n",
       "      <th>354</th>\n",
       "      <td>p</td>\n",
       "      <td>8.59</td>\n",
       "      <td>p</td>\n",
       "      <td>g</td>\n",
       "      <td>n</td>\n",
       "      <td>f</td>\n",
       "      <td>e</td>\n",
       "      <td>d</td>\n",
       "      <td>w</td>\n",
       "      <td>9.15</td>\n",
       "      <td>17.34</td>\n",
       "      <td>s</td>\n",
       "      <td>w</td>\n",
       "      <td>w</td>\n",
       "      <td>t</td>\n",
       "      <td>p</td>\n",
       "      <td>g</td>\n",
       "      <td>d</td>\n",
       "      <td>a</td>\n",
       "    </tr>\n",
       "    <tr>\n",
       "      <th>355</th>\n",
       "      <td>p</td>\n",
       "      <td>5.95</td>\n",
       "      <td>p</td>\n",
       "      <td>g</td>\n",
       "      <td>n</td>\n",
       "      <td>f</td>\n",
       "      <td>e</td>\n",
       "      <td>d</td>\n",
       "      <td>w</td>\n",
       "      <td>7.54</td>\n",
       "      <td>12.73</td>\n",
       "      <td>r</td>\n",
       "      <td>w</td>\n",
       "      <td>w</td>\n",
       "      <td>t</td>\n",
       "      <td>p</td>\n",
       "      <td>y</td>\n",
       "      <td>d</td>\n",
       "      <td>u</td>\n",
       "    </tr>\n",
       "    <tr>\n",
       "      <th>356</th>\n",
       "      <td>p</td>\n",
       "      <td>6.51</td>\n",
       "      <td>x</td>\n",
       "      <td>g</td>\n",
       "      <td>n</td>\n",
       "      <td>f</td>\n",
       "      <td>e</td>\n",
       "      <td>d</td>\n",
       "      <td>w</td>\n",
       "      <td>6.80</td>\n",
       "      <td>12.92</td>\n",
       "      <td>s</td>\n",
       "      <td>w</td>\n",
       "      <td>w</td>\n",
       "      <td>t</td>\n",
       "      <td>p</td>\n",
       "      <td>y</td>\n",
       "      <td>d</td>\n",
       "      <td>a</td>\n",
       "    </tr>\n",
       "    <tr>\n",
       "      <th>357</th>\n",
       "      <td>p</td>\n",
       "      <td>7.66</td>\n",
       "      <td>x</td>\n",
       "      <td>g</td>\n",
       "      <td>n</td>\n",
       "      <td>f</td>\n",
       "      <td>e</td>\n",
       "      <td>d</td>\n",
       "      <td>w</td>\n",
       "      <td>8.55</td>\n",
       "      <td>14.98</td>\n",
       "      <td>c</td>\n",
       "      <td>w</td>\n",
       "      <td>w</td>\n",
       "      <td>t</td>\n",
       "      <td>p</td>\n",
       "      <td>e</td>\n",
       "      <td>d</td>\n",
       "      <td>a</td>\n",
       "    </tr>\n",
       "    <tr>\n",
       "      <th>...</th>\n",
       "      <td>...</td>\n",
       "      <td>...</td>\n",
       "      <td>...</td>\n",
       "      <td>...</td>\n",
       "      <td>...</td>\n",
       "      <td>...</td>\n",
       "      <td>...</td>\n",
       "      <td>...</td>\n",
       "      <td>...</td>\n",
       "      <td>...</td>\n",
       "      <td>...</td>\n",
       "      <td>...</td>\n",
       "      <td>...</td>\n",
       "      <td>...</td>\n",
       "      <td>...</td>\n",
       "      <td>...</td>\n",
       "      <td>...</td>\n",
       "      <td>...</td>\n",
       "      <td>...</td>\n",
       "    </tr>\n",
       "    <tr>\n",
       "      <th>61064</th>\n",
       "      <td>p</td>\n",
       "      <td>1.18</td>\n",
       "      <td>s</td>\n",
       "      <td>s</td>\n",
       "      <td>y</td>\n",
       "      <td>f</td>\n",
       "      <td>f</td>\n",
       "      <td>f</td>\n",
       "      <td>f</td>\n",
       "      <td>3.93</td>\n",
       "      <td>6.22</td>\n",
       "      <td>z</td>\n",
       "      <td>y</td>\n",
       "      <td>y</td>\n",
       "      <td>f</td>\n",
       "      <td>f</td>\n",
       "      <td>b</td>\n",
       "      <td>d</td>\n",
       "      <td>a</td>\n",
       "    </tr>\n",
       "    <tr>\n",
       "      <th>61065</th>\n",
       "      <td>p</td>\n",
       "      <td>1.27</td>\n",
       "      <td>f</td>\n",
       "      <td>s</td>\n",
       "      <td>y</td>\n",
       "      <td>f</td>\n",
       "      <td>f</td>\n",
       "      <td>f</td>\n",
       "      <td>f</td>\n",
       "      <td>3.18</td>\n",
       "      <td>5.43</td>\n",
       "      <td>f</td>\n",
       "      <td>y</td>\n",
       "      <td>y</td>\n",
       "      <td>f</td>\n",
       "      <td>f</td>\n",
       "      <td>n</td>\n",
       "      <td>d</td>\n",
       "      <td>a</td>\n",
       "    </tr>\n",
       "    <tr>\n",
       "      <th>61066</th>\n",
       "      <td>p</td>\n",
       "      <td>1.27</td>\n",
       "      <td>s</td>\n",
       "      <td>s</td>\n",
       "      <td>y</td>\n",
       "      <td>f</td>\n",
       "      <td>f</td>\n",
       "      <td>f</td>\n",
       "      <td>f</td>\n",
       "      <td>3.86</td>\n",
       "      <td>6.37</td>\n",
       "      <td>b</td>\n",
       "      <td>y</td>\n",
       "      <td>y</td>\n",
       "      <td>f</td>\n",
       "      <td>f</td>\n",
       "      <td>b</td>\n",
       "      <td>d</td>\n",
       "      <td>u</td>\n",
       "    </tr>\n",
       "    <tr>\n",
       "      <th>61067</th>\n",
       "      <td>p</td>\n",
       "      <td>1.24</td>\n",
       "      <td>f</td>\n",
       "      <td>s</td>\n",
       "      <td>y</td>\n",
       "      <td>f</td>\n",
       "      <td>f</td>\n",
       "      <td>f</td>\n",
       "      <td>f</td>\n",
       "      <td>3.56</td>\n",
       "      <td>5.44</td>\n",
       "      <td>f</td>\n",
       "      <td>y</td>\n",
       "      <td>y</td>\n",
       "      <td>f</td>\n",
       "      <td>f</td>\n",
       "      <td>n</td>\n",
       "      <td>d</td>\n",
       "      <td>u</td>\n",
       "    </tr>\n",
       "    <tr>\n",
       "      <th>61068</th>\n",
       "      <td>p</td>\n",
       "      <td>1.17</td>\n",
       "      <td>s</td>\n",
       "      <td>s</td>\n",
       "      <td>y</td>\n",
       "      <td>f</td>\n",
       "      <td>f</td>\n",
       "      <td>f</td>\n",
       "      <td>f</td>\n",
       "      <td>3.25</td>\n",
       "      <td>5.45</td>\n",
       "      <td>s</td>\n",
       "      <td>y</td>\n",
       "      <td>y</td>\n",
       "      <td>f</td>\n",
       "      <td>f</td>\n",
       "      <td>n</td>\n",
       "      <td>d</td>\n",
       "      <td>u</td>\n",
       "    </tr>\n",
       "  </tbody>\n",
       "</table>\n",
       "<p>55729 rows × 19 columns</p>\n",
       "</div>"
      ],
      "text/plain": [
       "      class  cap-diameter cap-shape cap-surface cap-color  \\\n",
       "353       p          6.87         x           g         n   \n",
       "354       p          8.59         p           g         n   \n",
       "355       p          5.95         p           g         n   \n",
       "356       p          6.51         x           g         n   \n",
       "357       p          7.66         x           g         n   \n",
       "...     ...           ...       ...         ...       ...   \n",
       "61064     p          1.18         s           s         y   \n",
       "61065     p          1.27         f           s         y   \n",
       "61066     p          1.27         s           s         y   \n",
       "61067     p          1.24         f           s         y   \n",
       "61068     p          1.17         s           s         y   \n",
       "\n",
       "      does-bruise-or-bleed gill-attachment gill-spacing gill-color  \\\n",
       "353                      f               e            d          w   \n",
       "354                      f               e            d          w   \n",
       "355                      f               e            d          w   \n",
       "356                      f               e            d          w   \n",
       "357                      f               e            d          w   \n",
       "...                    ...             ...          ...        ...   \n",
       "61064                    f               f            f          f   \n",
       "61065                    f               f            f          f   \n",
       "61066                    f               f            f          f   \n",
       "61067                    f               f            f          f   \n",
       "61068                    f               f            f          f   \n",
       "\n",
       "       stem-height  stem-width stem-root stem-color veil-color has-ring  \\\n",
       "353           6.88       13.64         c          w          w        t   \n",
       "354           9.15       17.34         s          w          w        t   \n",
       "355           7.54       12.73         r          w          w        t   \n",
       "356           6.80       12.92         s          w          w        t   \n",
       "357           8.55       14.98         c          w          w        t   \n",
       "...            ...         ...       ...        ...        ...      ...   \n",
       "61064         3.93        6.22         z          y          y        f   \n",
       "61065         3.18        5.43         f          y          y        f   \n",
       "61066         3.86        6.37         b          y          y        f   \n",
       "61067         3.56        5.44         f          y          y        f   \n",
       "61068         3.25        5.45         s          y          y        f   \n",
       "\n",
       "      ring-type spore-print-color habitat season  \n",
       "353           p                 u       d      a  \n",
       "354           p                 g       d      a  \n",
       "355           p                 y       d      u  \n",
       "356           p                 y       d      a  \n",
       "357           p                 e       d      a  \n",
       "...         ...               ...     ...    ...  \n",
       "61064         f                 b       d      a  \n",
       "61065         f                 n       d      a  \n",
       "61066         f                 b       d      u  \n",
       "61067         f                 n       d      u  \n",
       "61068         f                 n       d      u  \n",
       "\n",
       "[55729 rows x 19 columns]"
      ]
     },
     "execution_count": 251,
     "metadata": {},
     "output_type": "execute_result"
    }
   ],
   "source": [
    "# merging data_1 and outliers\n",
    "\n",
    "\n",
    "\n",
    "outliers=pd.DataFrame(outliers)\n",
    "outliers.columns=['outliers']\n",
    "\n",
    "data_1= pd.concat([data_1, outliers], axis=1)\n",
    "\n",
    "\n",
    "# removing outliers\n",
    "\n",
    "\n",
    "data_1=data_1[data_1['outliers']!=True]\n",
    "\n",
    "# removing the column containing outliers\n",
    "\n",
    "data_1=data_1.drop('outliers',axis=1)\n",
    "\n",
    "data_1"
   ]
  },
  {
   "cell_type": "markdown",
   "id": "63acf223",
   "metadata": {},
   "source": [
    "# 4. Using Category Encoders to convert the object columns to numerical columns"
   ]
  },
  {
   "cell_type": "code",
   "execution_count": 252,
   "id": "b4a244cd",
   "metadata": {},
   "outputs": [
    {
     "name": "stdout",
     "output_type": "stream",
     "text": [
      "Requirement already satisfied: category_encoders in c:\\users\\saura\\anaconda3\\lib\\site-packages (2.6.3)Note: you may need to restart the kernel to use updated packages.\n",
      "\n",
      "Requirement already satisfied: pandas>=1.0.5 in c:\\users\\saura\\anaconda3\\lib\\site-packages (from category_encoders) (1.4.4)\n",
      "Requirement already satisfied: patsy>=0.5.1 in c:\\users\\saura\\anaconda3\\lib\\site-packages (from category_encoders) (0.5.2)\n",
      "Requirement already satisfied: scipy>=1.0.0 in c:\\users\\saura\\anaconda3\\lib\\site-packages (from category_encoders) (1.9.1)\n",
      "Requirement already satisfied: scikit-learn>=0.20.0 in c:\\users\\saura\\anaconda3\\lib\\site-packages (from category_encoders) (1.0.2)\n",
      "Requirement already satisfied: statsmodels>=0.9.0 in c:\\users\\saura\\anaconda3\\lib\\site-packages (from category_encoders) (0.13.2)\n",
      "Requirement already satisfied: numpy>=1.14.0 in c:\\users\\saura\\anaconda3\\lib\\site-packages (from category_encoders) (1.21.5)\n",
      "Requirement already satisfied: pytz>=2020.1 in c:\\users\\saura\\anaconda3\\lib\\site-packages (from pandas>=1.0.5->category_encoders) (2022.1)\n",
      "Requirement already satisfied: python-dateutil>=2.8.1 in c:\\users\\saura\\anaconda3\\lib\\site-packages (from pandas>=1.0.5->category_encoders) (2.8.2)\n",
      "Requirement already satisfied: six in c:\\users\\saura\\anaconda3\\lib\\site-packages (from patsy>=0.5.1->category_encoders) (1.16.0)\n",
      "Requirement already satisfied: joblib>=0.11 in c:\\users\\saura\\anaconda3\\lib\\site-packages (from scikit-learn>=0.20.0->category_encoders) (1.1.0)\n",
      "Requirement already satisfied: threadpoolctl>=2.0.0 in c:\\users\\saura\\anaconda3\\lib\\site-packages (from scikit-learn>=0.20.0->category_encoders) (2.2.0)\n",
      "Requirement already satisfied: packaging>=21.3 in c:\\users\\saura\\anaconda3\\lib\\site-packages (from statsmodels>=0.9.0->category_encoders) (21.3)\n",
      "Requirement already satisfied: pyparsing!=3.0.5,>=2.0.2 in c:\\users\\saura\\anaconda3\\lib\\site-packages (from packaging>=21.3->statsmodels>=0.9.0->category_encoders) (3.0.9)\n"
     ]
    }
   ],
   "source": [
    "pip install category_encoders"
   ]
  },
  {
   "cell_type": "code",
   "execution_count": 253,
   "id": "50bf970a",
   "metadata": {},
   "outputs": [],
   "source": [
    "import category_encoders as ce"
   ]
  },
  {
   "cell_type": "code",
   "execution_count": 254,
   "id": "2e7ed3ae",
   "metadata": {},
   "outputs": [
    {
     "name": "stdout",
     "output_type": "stream",
     "text": [
      "class\n",
      "cap-diameter\n",
      "cap-shape\n",
      "cap-surface\n",
      "cap-color\n",
      "does-bruise-or-bleed\n",
      "gill-attachment\n",
      "gill-spacing\n",
      "gill-color\n",
      "stem-height\n",
      "stem-width\n",
      "stem-root\n",
      "stem-color\n",
      "veil-color\n",
      "has-ring\n",
      "ring-type\n",
      "spore-print-color\n",
      "habitat\n",
      "season\n"
     ]
    }
   ],
   "source": [
    "for i in data_1.columns:\n",
    "    print(i)"
   ]
  },
  {
   "cell_type": "code",
   "execution_count": 255,
   "id": "fc1866be",
   "metadata": {},
   "outputs": [],
   "source": [
    "# use ordinal encoder to convert the columns\n",
    "\n",
    "encoders=ce.OrdinalEncoder(cols=['cap-shape','cap-surface','cap-color','does-bruise-or-bleed','gill-attachment','gill-spacing','gill-color','stem-root','stem-color','veil-color','has-ring','ring-type','spore-print-color','habitat','season'])\n",
    "data_1=encoders.fit_transform(data_1)\n"
   ]
  },
  {
   "cell_type": "code",
   "execution_count": 256,
   "id": "6f4d833c",
   "metadata": {},
   "outputs": [
    {
     "data": {
      "text/html": [
       "<div>\n",
       "<style scoped>\n",
       "    .dataframe tbody tr th:only-of-type {\n",
       "        vertical-align: middle;\n",
       "    }\n",
       "\n",
       "    .dataframe tbody tr th {\n",
       "        vertical-align: top;\n",
       "    }\n",
       "\n",
       "    .dataframe thead th {\n",
       "        text-align: right;\n",
       "    }\n",
       "</style>\n",
       "<table border=\"1\" class=\"dataframe\">\n",
       "  <thead>\n",
       "    <tr style=\"text-align: right;\">\n",
       "      <th></th>\n",
       "      <th>class</th>\n",
       "      <th>cap-diameter</th>\n",
       "      <th>cap-shape</th>\n",
       "      <th>cap-surface</th>\n",
       "      <th>cap-color</th>\n",
       "      <th>does-bruise-or-bleed</th>\n",
       "      <th>gill-attachment</th>\n",
       "      <th>gill-spacing</th>\n",
       "      <th>gill-color</th>\n",
       "      <th>stem-height</th>\n",
       "      <th>stem-width</th>\n",
       "      <th>stem-root</th>\n",
       "      <th>stem-color</th>\n",
       "      <th>veil-color</th>\n",
       "      <th>has-ring</th>\n",
       "      <th>ring-type</th>\n",
       "      <th>spore-print-color</th>\n",
       "      <th>habitat</th>\n",
       "      <th>season</th>\n",
       "    </tr>\n",
       "  </thead>\n",
       "  <tbody>\n",
       "    <tr>\n",
       "      <th>353</th>\n",
       "      <td>p</td>\n",
       "      <td>6.87</td>\n",
       "      <td>1</td>\n",
       "      <td>1</td>\n",
       "      <td>1</td>\n",
       "      <td>1</td>\n",
       "      <td>1</td>\n",
       "      <td>1</td>\n",
       "      <td>1</td>\n",
       "      <td>6.88</td>\n",
       "      <td>13.64</td>\n",
       "      <td>1</td>\n",
       "      <td>1</td>\n",
       "      <td>1</td>\n",
       "      <td>1</td>\n",
       "      <td>1</td>\n",
       "      <td>1</td>\n",
       "      <td>1</td>\n",
       "      <td>1</td>\n",
       "    </tr>\n",
       "    <tr>\n",
       "      <th>354</th>\n",
       "      <td>p</td>\n",
       "      <td>8.59</td>\n",
       "      <td>2</td>\n",
       "      <td>1</td>\n",
       "      <td>1</td>\n",
       "      <td>1</td>\n",
       "      <td>1</td>\n",
       "      <td>1</td>\n",
       "      <td>1</td>\n",
       "      <td>9.15</td>\n",
       "      <td>17.34</td>\n",
       "      <td>2</td>\n",
       "      <td>1</td>\n",
       "      <td>1</td>\n",
       "      <td>1</td>\n",
       "      <td>1</td>\n",
       "      <td>2</td>\n",
       "      <td>1</td>\n",
       "      <td>1</td>\n",
       "    </tr>\n",
       "    <tr>\n",
       "      <th>355</th>\n",
       "      <td>p</td>\n",
       "      <td>5.95</td>\n",
       "      <td>2</td>\n",
       "      <td>1</td>\n",
       "      <td>1</td>\n",
       "      <td>1</td>\n",
       "      <td>1</td>\n",
       "      <td>1</td>\n",
       "      <td>1</td>\n",
       "      <td>7.54</td>\n",
       "      <td>12.73</td>\n",
       "      <td>3</td>\n",
       "      <td>1</td>\n",
       "      <td>1</td>\n",
       "      <td>1</td>\n",
       "      <td>1</td>\n",
       "      <td>3</td>\n",
       "      <td>1</td>\n",
       "      <td>2</td>\n",
       "    </tr>\n",
       "    <tr>\n",
       "      <th>356</th>\n",
       "      <td>p</td>\n",
       "      <td>6.51</td>\n",
       "      <td>1</td>\n",
       "      <td>1</td>\n",
       "      <td>1</td>\n",
       "      <td>1</td>\n",
       "      <td>1</td>\n",
       "      <td>1</td>\n",
       "      <td>1</td>\n",
       "      <td>6.80</td>\n",
       "      <td>12.92</td>\n",
       "      <td>2</td>\n",
       "      <td>1</td>\n",
       "      <td>1</td>\n",
       "      <td>1</td>\n",
       "      <td>1</td>\n",
       "      <td>3</td>\n",
       "      <td>1</td>\n",
       "      <td>1</td>\n",
       "    </tr>\n",
       "    <tr>\n",
       "      <th>357</th>\n",
       "      <td>p</td>\n",
       "      <td>7.66</td>\n",
       "      <td>1</td>\n",
       "      <td>1</td>\n",
       "      <td>1</td>\n",
       "      <td>1</td>\n",
       "      <td>1</td>\n",
       "      <td>1</td>\n",
       "      <td>1</td>\n",
       "      <td>8.55</td>\n",
       "      <td>14.98</td>\n",
       "      <td>1</td>\n",
       "      <td>1</td>\n",
       "      <td>1</td>\n",
       "      <td>1</td>\n",
       "      <td>1</td>\n",
       "      <td>4</td>\n",
       "      <td>1</td>\n",
       "      <td>1</td>\n",
       "    </tr>\n",
       "    <tr>\n",
       "      <th>...</th>\n",
       "      <td>...</td>\n",
       "      <td>...</td>\n",
       "      <td>...</td>\n",
       "      <td>...</td>\n",
       "      <td>...</td>\n",
       "      <td>...</td>\n",
       "      <td>...</td>\n",
       "      <td>...</td>\n",
       "      <td>...</td>\n",
       "      <td>...</td>\n",
       "      <td>...</td>\n",
       "      <td>...</td>\n",
       "      <td>...</td>\n",
       "      <td>...</td>\n",
       "      <td>...</td>\n",
       "      <td>...</td>\n",
       "      <td>...</td>\n",
       "      <td>...</td>\n",
       "      <td>...</td>\n",
       "    </tr>\n",
       "    <tr>\n",
       "      <th>61064</th>\n",
       "      <td>p</td>\n",
       "      <td>1.18</td>\n",
       "      <td>6</td>\n",
       "      <td>6</td>\n",
       "      <td>5</td>\n",
       "      <td>1</td>\n",
       "      <td>3</td>\n",
       "      <td>3</td>\n",
       "      <td>12</td>\n",
       "      <td>3.93</td>\n",
       "      <td>6.22</td>\n",
       "      <td>7</td>\n",
       "      <td>2</td>\n",
       "      <td>2</td>\n",
       "      <td>2</td>\n",
       "      <td>5</td>\n",
       "      <td>10</td>\n",
       "      <td>1</td>\n",
       "      <td>1</td>\n",
       "    </tr>\n",
       "    <tr>\n",
       "      <th>61065</th>\n",
       "      <td>p</td>\n",
       "      <td>1.27</td>\n",
       "      <td>3</td>\n",
       "      <td>6</td>\n",
       "      <td>5</td>\n",
       "      <td>1</td>\n",
       "      <td>3</td>\n",
       "      <td>3</td>\n",
       "      <td>12</td>\n",
       "      <td>3.18</td>\n",
       "      <td>5.43</td>\n",
       "      <td>5</td>\n",
       "      <td>2</td>\n",
       "      <td>2</td>\n",
       "      <td>2</td>\n",
       "      <td>5</td>\n",
       "      <td>9</td>\n",
       "      <td>1</td>\n",
       "      <td>1</td>\n",
       "    </tr>\n",
       "    <tr>\n",
       "      <th>61066</th>\n",
       "      <td>p</td>\n",
       "      <td>1.27</td>\n",
       "      <td>6</td>\n",
       "      <td>6</td>\n",
       "      <td>5</td>\n",
       "      <td>1</td>\n",
       "      <td>3</td>\n",
       "      <td>3</td>\n",
       "      <td>12</td>\n",
       "      <td>3.86</td>\n",
       "      <td>6.37</td>\n",
       "      <td>4</td>\n",
       "      <td>2</td>\n",
       "      <td>2</td>\n",
       "      <td>2</td>\n",
       "      <td>5</td>\n",
       "      <td>10</td>\n",
       "      <td>1</td>\n",
       "      <td>2</td>\n",
       "    </tr>\n",
       "    <tr>\n",
       "      <th>61067</th>\n",
       "      <td>p</td>\n",
       "      <td>1.24</td>\n",
       "      <td>3</td>\n",
       "      <td>6</td>\n",
       "      <td>5</td>\n",
       "      <td>1</td>\n",
       "      <td>3</td>\n",
       "      <td>3</td>\n",
       "      <td>12</td>\n",
       "      <td>3.56</td>\n",
       "      <td>5.44</td>\n",
       "      <td>5</td>\n",
       "      <td>2</td>\n",
       "      <td>2</td>\n",
       "      <td>2</td>\n",
       "      <td>5</td>\n",
       "      <td>9</td>\n",
       "      <td>1</td>\n",
       "      <td>2</td>\n",
       "    </tr>\n",
       "    <tr>\n",
       "      <th>61068</th>\n",
       "      <td>p</td>\n",
       "      <td>1.17</td>\n",
       "      <td>6</td>\n",
       "      <td>6</td>\n",
       "      <td>5</td>\n",
       "      <td>1</td>\n",
       "      <td>3</td>\n",
       "      <td>3</td>\n",
       "      <td>12</td>\n",
       "      <td>3.25</td>\n",
       "      <td>5.45</td>\n",
       "      <td>2</td>\n",
       "      <td>2</td>\n",
       "      <td>2</td>\n",
       "      <td>2</td>\n",
       "      <td>5</td>\n",
       "      <td>9</td>\n",
       "      <td>1</td>\n",
       "      <td>2</td>\n",
       "    </tr>\n",
       "  </tbody>\n",
       "</table>\n",
       "<p>55729 rows × 19 columns</p>\n",
       "</div>"
      ],
      "text/plain": [
       "      class  cap-diameter  cap-shape  cap-surface  cap-color  \\\n",
       "353       p          6.87          1            1          1   \n",
       "354       p          8.59          2            1          1   \n",
       "355       p          5.95          2            1          1   \n",
       "356       p          6.51          1            1          1   \n",
       "357       p          7.66          1            1          1   \n",
       "...     ...           ...        ...          ...        ...   \n",
       "61064     p          1.18          6            6          5   \n",
       "61065     p          1.27          3            6          5   \n",
       "61066     p          1.27          6            6          5   \n",
       "61067     p          1.24          3            6          5   \n",
       "61068     p          1.17          6            6          5   \n",
       "\n",
       "       does-bruise-or-bleed  gill-attachment  gill-spacing  gill-color  \\\n",
       "353                       1                1             1           1   \n",
       "354                       1                1             1           1   \n",
       "355                       1                1             1           1   \n",
       "356                       1                1             1           1   \n",
       "357                       1                1             1           1   \n",
       "...                     ...              ...           ...         ...   \n",
       "61064                     1                3             3          12   \n",
       "61065                     1                3             3          12   \n",
       "61066                     1                3             3          12   \n",
       "61067                     1                3             3          12   \n",
       "61068                     1                3             3          12   \n",
       "\n",
       "       stem-height  stem-width  stem-root  stem-color  veil-color  has-ring  \\\n",
       "353           6.88       13.64          1           1           1         1   \n",
       "354           9.15       17.34          2           1           1         1   \n",
       "355           7.54       12.73          3           1           1         1   \n",
       "356           6.80       12.92          2           1           1         1   \n",
       "357           8.55       14.98          1           1           1         1   \n",
       "...            ...         ...        ...         ...         ...       ...   \n",
       "61064         3.93        6.22          7           2           2         2   \n",
       "61065         3.18        5.43          5           2           2         2   \n",
       "61066         3.86        6.37          4           2           2         2   \n",
       "61067         3.56        5.44          5           2           2         2   \n",
       "61068         3.25        5.45          2           2           2         2   \n",
       "\n",
       "       ring-type  spore-print-color  habitat  season  \n",
       "353            1                  1        1       1  \n",
       "354            1                  2        1       1  \n",
       "355            1                  3        1       2  \n",
       "356            1                  3        1       1  \n",
       "357            1                  4        1       1  \n",
       "...          ...                ...      ...     ...  \n",
       "61064          5                 10        1       1  \n",
       "61065          5                  9        1       1  \n",
       "61066          5                 10        1       2  \n",
       "61067          5                  9        1       2  \n",
       "61068          5                  9        1       2  \n",
       "\n",
       "[55729 rows x 19 columns]"
      ]
     },
     "execution_count": 256,
     "metadata": {},
     "output_type": "execute_result"
    }
   ],
   "source": [
    "data_1"
   ]
  },
  {
   "cell_type": "markdown",
   "id": "ef178f98",
   "metadata": {},
   "source": [
    "# 5. Using Decision Tree model for this classification problem since it is an ensemble method that combines multiple decision trees. It is robust, handles non-linearity well, and provides feature importance."
   ]
  },
  {
   "cell_type": "code",
   "execution_count": 257,
   "id": "e1b5109b",
   "metadata": {},
   "outputs": [],
   "source": [
    "# import the necessary modules\n",
    "\n",
    "\n",
    "from sklearn.model_selection import train_test_split\n",
    "from sklearn.tree import DecisionTreeClassifier\n",
    "from sklearn.metrics import accuracy_score"
   ]
  },
  {
   "cell_type": "code",
   "execution_count": 258,
   "id": "6861ce27",
   "metadata": {},
   "outputs": [],
   "source": [
    "x=data_1.drop('class',axis=1)\n",
    "y=data_1['class']"
   ]
  },
  {
   "cell_type": "code",
   "execution_count": 259,
   "id": "f21248f5",
   "metadata": {},
   "outputs": [],
   "source": [
    "# split the data sets for tarining and testing\n",
    "\n",
    "x_train,x_test,y_train,y_test=train_test_split(x,y,test_size=0.25,random_state=101)"
   ]
  },
  {
   "cell_type": "markdown",
   "id": "0f00f790",
   "metadata": {},
   "source": [
    "# 6. Decision Tree using gini index"
   ]
  },
  {
   "cell_type": "code",
   "execution_count": 260,
   "id": "dec81946",
   "metadata": {},
   "outputs": [],
   "source": [
    "gini=DecisionTreeClassifier(criterion='gini', max_depth=7,random_state=101)"
   ]
  },
  {
   "cell_type": "code",
   "execution_count": 261,
   "id": "ea6d6fb1",
   "metadata": {},
   "outputs": [
    {
     "data": {
      "text/plain": [
       "DecisionTreeClassifier(max_depth=7, random_state=101)"
      ]
     },
     "execution_count": 261,
     "metadata": {},
     "output_type": "execute_result"
    }
   ],
   "source": [
    "# fitting the model using training datas\n",
    "\n",
    "gini.fit(x_train,y_train)"
   ]
  },
  {
   "cell_type": "code",
   "execution_count": 262,
   "id": "a5064fb2",
   "metadata": {},
   "outputs": [],
   "source": [
    "gini_prediction=gini.predict(x_test)"
   ]
  },
  {
   "cell_type": "code",
   "execution_count": 263,
   "id": "d1d8494c",
   "metadata": {},
   "outputs": [
    {
     "name": "stdout",
     "output_type": "stream",
     "text": [
      "test accuracy scorre: 0.9050\n"
     ]
    }
   ],
   "source": [
    "print('test accuracy scorre: {:.4f}'.format(accuracy_score(y_test,gini_prediction)))"
   ]
  },
  {
   "cell_type": "code",
   "execution_count": 264,
   "id": "386c1ac0",
   "metadata": {},
   "outputs": [
    {
     "data": {
      "text/plain": [
       "stem-width              0.203703\n",
       "cap-surface             0.152557\n",
       "gill-spacing            0.138195\n",
       "gill-color              0.095987\n",
       "gill-attachment         0.071580\n",
       "stem-height             0.070187\n",
       "cap-shape               0.054785\n",
       "stem-color              0.052092\n",
       "ring-type               0.040083\n",
       "habitat                 0.036449\n",
       "season                  0.033201\n",
       "cap-color               0.026425\n",
       "spore-print-color       0.012553\n",
       "veil-color              0.010440\n",
       "cap-diameter            0.000994\n",
       "has-ring                0.000770\n",
       "stem-root               0.000000\n",
       "does-bruise-or-bleed    0.000000\n",
       "dtype: float64"
      ]
     },
     "execution_count": 264,
     "metadata": {},
     "output_type": "execute_result"
    }
   ],
   "source": [
    "# view the feature scores\n",
    "\n",
    "feature_scores = pd.Series(gini.feature_importances_, index=x_train.columns).sort_values(ascending=False)\n",
    "\n",
    "feature_scores"
   ]
  },
  {
   "cell_type": "markdown",
   "id": "2d28d082",
   "metadata": {},
   "source": [
    "## 6.1 Visualizing important features for gini index"
   ]
  },
  {
   "cell_type": "code",
   "execution_count": 265,
   "id": "425d0bfe",
   "metadata": {},
   "outputs": [
    {
     "data": {
      "image/png": "[encoded data removed]",
      "text/plain": [
       "<Figure size 640x480 with 1 Axes>"
      ]
     },
     "metadata": {},
     "output_type": "display_data"
    }
   ],
   "source": [
    "# Creating a seaborn bar plot\n",
    "\n",
    "sns.barplot(x=feature_scores, y=feature_scores.index)\n",
    "\n",
    "\n",
    "\n",
    "# Add labels to the graph\n",
    "\n",
    "plt.xlabel('Gini Index Feature Importance Score')\n",
    "\n",
    "plt.ylabel('Features')\n",
    "\n",
    "\n",
    "\n",
    "# Add title to the graph\n",
    "\n",
    "plt.title(\"Visualizing Important Features\")\n",
    "\n",
    "# Visualize the graph\n",
    "\n",
    "plt.show()"
   ]
  },
  {
   "cell_type": "markdown",
   "id": "26fb84d7",
   "metadata": {},
   "source": [
    "## 6.2 summarizing the performance of a classification algorithm using confusion matrix for gini index"
   ]
  },
  {
   "cell_type": "code",
   "execution_count": 266,
   "id": "3d6d5f62",
   "metadata": {},
   "outputs": [],
   "source": [
    "from sklearn.metrics import confusion_matrix"
   ]
  },
  {
   "cell_type": "code",
   "execution_count": 267,
   "id": "05743a57",
   "metadata": {},
   "outputs": [
    {
     "name": "stdout",
     "output_type": "stream",
     "text": [
      "Confusion matrix\n",
      "\n",
      " [[5236  847]\n",
      " [ 476 7374]]\n"
     ]
    }
   ],
   "source": [
    "cm=confusion_matrix(y_test,gini_prediction)\n",
    "print('Confusion matrix\\n\\n', cm)\n"
   ]
  },
  {
   "cell_type": "markdown",
   "id": "b1251603",
   "metadata": {},
   "source": [
    "## 6.3 Classification Report for gini index"
   ]
  },
  {
   "cell_type": "code",
   "execution_count": 268,
   "id": "33bf8f43",
   "metadata": {},
   "outputs": [
    {
     "name": "stdout",
     "output_type": "stream",
     "text": [
      "              precision    recall  f1-score   support\n",
      "\n",
      "           e       0.92      0.86      0.89      6083\n",
      "           p       0.90      0.94      0.92      7850\n",
      "\n",
      "    accuracy                           0.91     13933\n",
      "   macro avg       0.91      0.90      0.90     13933\n",
      "weighted avg       0.91      0.91      0.90     13933\n",
      "\n"
     ]
    }
   ],
   "source": [
    "from sklearn.metrics import classification_report\n",
    "\n",
    "print(classification_report(y_test, gini_prediction))"
   ]
  },
  {
   "cell_type": "markdown",
   "id": "4955710a",
   "metadata": {},
   "source": [
    "## 6.4 Plot the tree for gini index"
   ]
  },
  {
   "cell_type": "code",
   "execution_count": 269,
   "id": "5d7a6abc",
   "metadata": {},
   "outputs": [
    {
     "data": {
      "text/plain": [
       "[Text(0.4209558823529412, 0.9375, 'X[6] <= 1.5\\ngini = 0.492\\nsamples = 41796\\nvalue = [18326, 23470]'),\n",
       " Text(0.20850840336134455, 0.8125, 'X[17] <= 2.5\\ngini = 0.347\\nsamples = 14819\\nvalue = [3310, 11509]'),\n",
       " Text(0.11869747899159663, 0.6875, 'X[2] <= 5.5\\ngini = 0.289\\nsamples = 13042\\nvalue = [2287, 10755]'),\n",
       " Text(0.0546218487394958, 0.5625, 'X[16] <= 3.5\\ngini = 0.21\\nsamples = 8599\\nvalue = [1025, 7574]'),\n",
       " Text(0.03361344537815126, 0.4375, 'X[2] <= 1.5\\ngini = 0.167\\nsamples = 7815\\nvalue = [721, 7094]'),\n",
       " Text(0.01680672268907563, 0.3125, 'X[1] <= 2.5\\ngini = 0.38\\nsamples = 1582\\nvalue = [403, 1179]'),\n",
       " Text(0.008403361344537815, 0.1875, 'gini = 0.0\\nsamples = 1178\\nvalue = [0, 1178]'),\n",
       " Text(0.025210084033613446, 0.1875, 'X[9] <= 17.925\\ngini = 0.005\\nsamples = 404\\nvalue = [403, 1]'),\n",
       " Text(0.01680672268907563, 0.0625, 'gini = 0.0\\nsamples = 403\\nvalue = [403, 0]'),\n",
       " Text(0.03361344537815126, 0.0625, 'gini = 0.0\\nsamples = 1\\nvalue = [0, 1]'),\n",
       " Text(0.05042016806722689, 0.3125, 'X[2] <= 3.5\\ngini = 0.097\\nsamples = 6233\\nvalue = [318, 5915]'),\n",
       " Text(0.04201680672268908, 0.1875, 'gini = 0.0\\nsamples = 3325\\nvalue = [0, 3325]'),\n",
       " Text(0.058823529411764705, 0.1875, 'X[15] <= 7.5\\ngini = 0.195\\nsamples = 2908\\nvalue = [318, 2590]'),\n",
       " Text(0.05042016806722689, 0.0625, 'gini = 0.492\\nsamples = 174\\nvalue = [98, 76]'),\n",
       " Text(0.06722689075630252, 0.0625, 'gini = 0.148\\nsamples = 2734\\nvalue = [220, 2514]'),\n",
       " Text(0.07563025210084033, 0.4375, 'X[7] <= 2.5\\ngini = 0.475\\nsamples = 784\\nvalue = [304, 480]'),\n",
       " Text(0.06722689075630252, 0.3125, 'gini = 0.0\\nsamples = 414\\nvalue = [0, 414]'),\n",
       " Text(0.08403361344537816, 0.3125, 'X[3] <= 6.0\\ngini = 0.293\\nsamples = 370\\nvalue = [304, 66]'),\n",
       " Text(0.07563025210084033, 0.1875, 'gini = 0.0\\nsamples = 304\\nvalue = [304, 0]'),\n",
       " Text(0.09243697478991597, 0.1875, 'gini = 0.0\\nsamples = 66\\nvalue = [0, 66]'),\n",
       " Text(0.18277310924369747, 0.5625, 'X[3] <= 7.5\\ngini = 0.407\\nsamples = 4443\\nvalue = [1262, 3181]'),\n",
       " Text(0.14705882352941177, 0.4375, 'X[11] <= 10.5\\ngini = 0.346\\nsamples = 3756\\nvalue = [837, 2919]'),\n",
       " Text(0.12605042016806722, 0.3125, 'X[5] <= 2.5\\ngini = 0.303\\nsamples = 3494\\nvalue = [651, 2843]'),\n",
       " Text(0.1092436974789916, 0.1875, 'X[2] <= 7.0\\ngini = 0.498\\nsamples = 581\\nvalue = [273, 308]'),\n",
       " Text(0.10084033613445378, 0.0625, 'gini = 0.268\\nsamples = 276\\nvalue = [232, 44]'),\n",
       " Text(0.11764705882352941, 0.0625, 'gini = 0.233\\nsamples = 305\\nvalue = [41, 264]'),\n",
       " Text(0.14285714285714285, 0.1875, 'X[2] <= 10.5\\ngini = 0.226\\nsamples = 2913\\nvalue = [378, 2535]'),\n",
       " Text(0.13445378151260504, 0.0625, 'gini = 0.184\\nsamples = 2709\\nvalue = [277, 2432]'),\n",
       " Text(0.15126050420168066, 0.0625, 'gini = 0.5\\nsamples = 204\\nvalue = [101, 103]'),\n",
       " Text(0.16806722689075632, 0.3125, 'X[5] <= 3.0\\ngini = 0.412\\nsamples = 262\\nvalue = [186, 76]'),\n",
       " Text(0.15966386554621848, 0.1875, 'gini = 0.0\\nsamples = 64\\nvalue = [0, 64]'),\n",
       " Text(0.17647058823529413, 0.1875, 'X[9] <= 14.945\\ngini = 0.114\\nsamples = 198\\nvalue = [186, 12]'),\n",
       " Text(0.16806722689075632, 0.0625, 'gini = 0.0\\nsamples = 186\\nvalue = [186, 0]'),\n",
       " Text(0.18487394957983194, 0.0625, 'gini = 0.0\\nsamples = 12\\nvalue = [0, 12]'),\n",
       " Text(0.2184873949579832, 0.4375, 'X[16] <= 1.5\\ngini = 0.472\\nsamples = 687\\nvalue = [425, 262]'),\n",
       " Text(0.20168067226890757, 0.3125, 'X[15] <= 7.5\\ngini = 0.161\\nsamples = 373\\nvalue = [340, 33]'),\n",
       " Text(0.19327731092436976, 0.1875, 'gini = 0.0\\nsamples = 31\\nvalue = [0, 31]'),\n",
       " Text(0.21008403361344538, 0.1875, 'X[9] <= 27.795\\ngini = 0.012\\nsamples = 342\\nvalue = [340, 2]'),\n",
       " Text(0.20168067226890757, 0.0625, 'gini = 0.006\\nsamples = 341\\nvalue = [340, 1]'),\n",
       " Text(0.2184873949579832, 0.0625, 'gini = 0.0\\nsamples = 1\\nvalue = [0, 1]'),\n",
       " Text(0.23529411764705882, 0.3125, 'X[9] <= 9.9\\ngini = 0.395\\nsamples = 314\\nvalue = [85, 229]'),\n",
       " Text(0.226890756302521, 0.1875, 'gini = 0.0\\nsamples = 229\\nvalue = [0, 229]'),\n",
       " Text(0.24369747899159663, 0.1875, 'gini = 0.0\\nsamples = 85\\nvalue = [85, 0]'),\n",
       " Text(0.29831932773109243, 0.6875, 'X[9] <= 1.99\\ngini = 0.489\\nsamples = 1777\\nvalue = [1023, 754]'),\n",
       " Text(0.28991596638655465, 0.5625, 'gini = 0.0\\nsamples = 350\\nvalue = [0, 350]'),\n",
       " Text(0.3067226890756303, 0.5625, 'X[14] <= 5.5\\ngini = 0.406\\nsamples = 1427\\nvalue = [1023, 404]'),\n",
       " Text(0.29831932773109243, 0.4375, 'X[3] <= 1.5\\ngini = 0.297\\nsamples = 1250\\nvalue = [1023, 227]'),\n",
       " Text(0.2773109243697479, 0.3125, 'X[5] <= 6.5\\ngini = 0.472\\nsamples = 504\\nvalue = [312, 192]'),\n",
       " Text(0.2605042016806723, 0.1875, 'X[2] <= 10.5\\ngini = 0.426\\nsamples = 254\\nvalue = [78, 176]'),\n",
       " Text(0.25210084033613445, 0.0625, 'gini = 0.168\\nsamples = 194\\nvalue = [18, 176]'),\n",
       " Text(0.2689075630252101, 0.0625, 'gini = 0.0\\nsamples = 60\\nvalue = [60, 0]'),\n",
       " Text(0.29411764705882354, 0.1875, 'X[16] <= 1.5\\ngini = 0.12\\nsamples = 250\\nvalue = [234, 16]'),\n",
       " Text(0.2857142857142857, 0.0625, 'gini = 0.0\\nsamples = 230\\nvalue = [230, 0]'),\n",
       " Text(0.3025210084033613, 0.0625, 'gini = 0.32\\nsamples = 20\\nvalue = [4, 16]'),\n",
       " Text(0.31932773109243695, 0.3125, 'X[9] <= 22.98\\ngini = 0.089\\nsamples = 746\\nvalue = [711, 35]'),\n",
       " Text(0.31092436974789917, 0.1875, 'gini = 0.0\\nsamples = 709\\nvalue = [709, 0]'),\n",
       " Text(0.3277310924369748, 0.1875, 'X[5] <= 6.5\\ngini = 0.102\\nsamples = 37\\nvalue = [2, 35]'),\n",
       " Text(0.31932773109243695, 0.0625, 'gini = 0.0\\nsamples = 35\\nvalue = [0, 35]'),\n",
       " Text(0.33613445378151263, 0.0625, 'gini = 0.0\\nsamples = 2\\nvalue = [2, 0]'),\n",
       " Text(0.31512605042016806, 0.4375, 'gini = 0.0\\nsamples = 177\\nvalue = [0, 177]'),\n",
       " Text(0.6334033613445378, 0.8125, 'X[2] <= 4.5\\ngini = 0.494\\nsamples = 26977\\nvalue = [15016, 11961]'),\n",
       " Text(0.4327731092436975, 0.6875, 'X[9] <= 2.155\\ngini = 0.463\\nsamples = 11426\\nvalue = [4151, 7275]'),\n",
       " Text(0.35294117647058826, 0.5625, 'X[8] <= 2.085\\ngini = 0.238\\nsamples = 1041\\nvalue = [897, 144]'),\n",
       " Text(0.3445378151260504, 0.4375, 'gini = 0.0\\nsamples = 135\\nvalue = [0, 135]'),\n",
       " Text(0.36134453781512604, 0.4375, 'X[13] <= 1.5\\ngini = 0.02\\nsamples = 906\\nvalue = [897, 9]'),\n",
       " Text(0.35294117647058826, 0.3125, 'gini = 0.0\\nsamples = 6\\nvalue = [0, 6]'),\n",
       " Text(0.3697478991596639, 0.3125, 'X[12] <= 10.0\\ngini = 0.007\\nsamples = 900\\nvalue = [897, 3]'),\n",
       " Text(0.36134453781512604, 0.1875, 'X[9] <= 1.885\\ngini = 0.004\\nsamples = 899\\nvalue = [897, 2]'),\n",
       " Text(0.35294117647058826, 0.0625, 'gini = 0.0\\nsamples = 841\\nvalue = [841, 0]'),\n",
       " Text(0.3697478991596639, 0.0625, 'gini = 0.067\\nsamples = 58\\nvalue = [56, 2]'),\n",
       " Text(0.37815126050420167, 0.1875, 'gini = 0.0\\nsamples = 1\\nvalue = [0, 1]'),\n",
       " Text(0.5126050420168067, 0.5625, 'X[5] <= 1.5\\ngini = 0.43\\nsamples = 10385\\nvalue = [3254, 7131]'),\n",
       " Text(0.44537815126050423, 0.4375, 'X[9] <= 8.64\\ngini = 0.432\\nsamples = 1786\\nvalue = [1222, 564]'),\n",
       " Text(0.4117647058823529, 0.3125, 'X[7] <= 9.5\\ngini = 0.182\\nsamples = 435\\nvalue = [44, 391]'),\n",
       " Text(0.3949579831932773, 0.1875, 'X[17] <= 2.5\\ngini = 0.091\\nsamples = 399\\nvalue = [19, 380]'),\n",
       " Text(0.3865546218487395, 0.0625, 'gini = 0.046\\nsamples = 380\\nvalue = [9, 371]'),\n",
       " Text(0.40336134453781514, 0.0625, 'gini = 0.499\\nsamples = 19\\nvalue = [10, 9]'),\n",
       " Text(0.42857142857142855, 0.1875, 'X[0] <= 1.845\\ngini = 0.424\\nsamples = 36\\nvalue = [25, 11]'),\n",
       " Text(0.42016806722689076, 0.0625, 'gini = 0.0\\nsamples = 11\\nvalue = [0, 11]'),\n",
       " Text(0.4369747899159664, 0.0625, 'gini = 0.0\\nsamples = 25\\nvalue = [25, 0]'),\n",
       " Text(0.4789915966386555, 0.3125, 'X[1] <= 3.5\\ngini = 0.223\\nsamples = 1351\\nvalue = [1178, 173]'),\n",
       " Text(0.46218487394957986, 0.1875, 'X[12] <= 3.5\\ngini = 0.064\\nsamples = 1183\\nvalue = [1144, 39]'),\n",
       " Text(0.453781512605042, 0.0625, 'gini = 0.027\\nsamples = 1160\\nvalue = [1144, 16]'),\n",
       " Text(0.47058823529411764, 0.0625, 'gini = 0.0\\nsamples = 23\\nvalue = [0, 23]'),\n",
       " Text(0.4957983193277311, 0.1875, 'X[3] <= 2.0\\ngini = 0.323\\nsamples = 168\\nvalue = [34, 134]'),\n",
       " Text(0.48739495798319327, 0.0625, 'gini = 0.149\\nsamples = 37\\nvalue = [34, 3]'),\n",
       " Text(0.5042016806722689, 0.0625, 'gini = 0.0\\nsamples = 131\\nvalue = [0, 131]'),\n",
       " Text(0.5798319327731093, 0.4375, 'X[16] <= 1.5\\ngini = 0.361\\nsamples = 8599\\nvalue = [2032, 6567]'),\n",
       " Text(0.5462184873949579, 0.3125, 'X[14] <= 3.5\\ngini = 0.427\\nsamples = 6458\\nvalue = [1994, 4464]'),\n",
       " Text(0.5294117647058824, 0.1875, 'X[12] <= 4.5\\ngini = 0.291\\nsamples = 368\\nvalue = [303, 65]'),\n",
       " Text(0.5210084033613446, 0.0625, 'gini = 0.0\\nsamples = 303\\nvalue = [303, 0]'),\n",
       " Text(0.5378151260504201, 0.0625, 'gini = 0.0\\nsamples = 65\\nvalue = [0, 65]'),\n",
       " Text(0.5630252100840336, 0.1875, 'X[7] <= 5.5\\ngini = 0.401\\nsamples = 6090\\nvalue = [1691, 4399]'),\n",
       " Text(0.5546218487394958, 0.0625, 'gini = 0.237\\nsamples = 2800\\nvalue = [384, 2416]'),\n",
       " Text(0.5714285714285714, 0.0625, 'gini = 0.479\\nsamples = 3290\\nvalue = [1307, 1983]'),\n",
       " Text(0.6134453781512605, 0.3125, 'X[9] <= 2.245\\ngini = 0.035\\nsamples = 2141\\nvalue = [38, 2103]'),\n",
       " Text(0.5966386554621849, 0.1875, 'X[7] <= 1.5\\ngini = 0.499\\nsamples = 25\\nvalue = [12, 13]'),\n",
       " Text(0.5882352941176471, 0.0625, 'gini = 0.0\\nsamples = 12\\nvalue = [12, 0]'),\n",
       " Text(0.6050420168067226, 0.0625, 'gini = 0.0\\nsamples = 13\\nvalue = [0, 13]'),\n",
       " Text(0.6302521008403361, 0.1875, 'X[7] <= 1.5\\ngini = 0.024\\nsamples = 2116\\nvalue = [26, 2090]'),\n",
       " Text(0.6218487394957983, 0.0625, 'gini = 0.133\\nsamples = 364\\nvalue = [26, 338]'),\n",
       " Text(0.6386554621848739, 0.0625, 'gini = 0.0\\nsamples = 1752\\nvalue = [0, 1752]'),\n",
       " Text(0.8340336134453782, 0.6875, 'X[9] <= 8.865\\ngini = 0.421\\nsamples = 15551\\nvalue = [10865, 4686]'),\n",
       " Text(0.7436974789915967, 0.5625, 'X[11] <= 1.5\\ngini = 0.492\\nsamples = 5991\\nvalue = [2619, 3372]'),\n",
       " Text(0.6890756302521008, 0.4375, 'X[8] <= 3.325\\ngini = 0.31\\nsamples = 1497\\nvalue = [1210, 287]'),\n",
       " Text(0.6722689075630253, 0.3125, 'X[7] <= 2.0\\ngini = 0.318\\nsamples = 298\\nvalue = [59, 239]'),\n",
       " Text(0.6638655462184874, 0.1875, 'X[2] <= 7.5\\ngini = 0.098\\nsamples = 252\\nvalue = [13, 239]'),\n",
       " Text(0.6554621848739496, 0.0625, 'gini = 0.0\\nsamples = 239\\nvalue = [0, 239]'),\n",
       " Text(0.6722689075630253, 0.0625, 'gini = 0.0\\nsamples = 13\\nvalue = [13, 0]'),\n",
       " Text(0.680672268907563, 0.1875, 'gini = 0.0\\nsamples = 46\\nvalue = [46, 0]'),\n",
       " Text(0.7058823529411765, 0.3125, 'X[15] <= 7.0\\ngini = 0.077\\nsamples = 1199\\nvalue = [1151, 48]'),\n",
       " Text(0.6974789915966386, 0.1875, 'gini = 0.0\\nsamples = 27\\nvalue = [0, 27]'),\n",
       " Text(0.7142857142857143, 0.1875, 'X[12] <= 8.5\\ngini = 0.035\\nsamples = 1172\\nvalue = [1151, 21]'),\n",
       " Text(0.7058823529411765, 0.0625, 'gini = 0.014\\nsamples = 1131\\nvalue = [1123, 8]'),\n",
       " Text(0.7226890756302521, 0.0625, 'gini = 0.433\\nsamples = 41\\nvalue = [28, 13]'),\n",
       " Text(0.7983193277310925, 0.4375, 'X[8] <= 3.785\\ngini = 0.43\\nsamples = 4494\\nvalue = [1409, 3085]'),\n",
       " Text(0.7647058823529411, 0.3125, 'X[5] <= 5.5\\ngini = 0.068\\nsamples = 1313\\nvalue = [46, 1267]'),\n",
       " Text(0.7478991596638656, 0.1875, 'X[15] <= 7.5\\ngini = 0.039\\nsamples = 1249\\nvalue = [25, 1224]'),\n",
       " Text(0.7394957983193278, 0.0625, 'gini = 0.0\\nsamples = 5\\nvalue = [5, 0]'),\n",
       " Text(0.7563025210084033, 0.0625, 'gini = 0.032\\nsamples = 1244\\nvalue = [20, 1224]'),\n",
       " Text(0.7815126050420168, 0.1875, 'X[7] <= 5.5\\ngini = 0.441\\nsamples = 64\\nvalue = [21, 43]'),\n",
       " Text(0.773109243697479, 0.0625, 'gini = 0.044\\nsamples = 44\\nvalue = [1, 43]'),\n",
       " Text(0.7899159663865546, 0.0625, 'gini = 0.0\\nsamples = 20\\nvalue = [20, 0]'),\n",
       " Text(0.8319327731092437, 0.3125, 'X[7] <= 7.5\\ngini = 0.49\\nsamples = 3181\\nvalue = [1363, 1818]'),\n",
       " Text(0.8151260504201681, 0.1875, 'X[7] <= 3.5\\ngini = 0.434\\nsamples = 2252\\nvalue = [716, 1536]'),\n",
       " Text(0.8067226890756303, 0.0625, 'gini = 0.498\\nsamples = 1336\\nvalue = [712, 624]'),\n",
       " Text(0.8235294117647058, 0.0625, 'gini = 0.009\\nsamples = 916\\nvalue = [4, 912]'),\n",
       " Text(0.8487394957983193, 0.1875, 'X[14] <= 6.0\\ngini = 0.423\\nsamples = 929\\nvalue = [647, 282]'),\n",
       " Text(0.8403361344537815, 0.0625, 'gini = 0.252\\nsamples = 759\\nvalue = [647, 112]'),\n",
       " Text(0.8571428571428571, 0.0625, 'gini = 0.0\\nsamples = 170\\nvalue = [0, 170]'),\n",
       " Text(0.9243697478991597, 0.5625, 'X[8] <= 2.03\\ngini = 0.237\\nsamples = 9560\\nvalue = [8246, 1314]'),\n",
       " Text(0.9159663865546218, 0.4375, 'gini = 0.0\\nsamples = 187\\nvalue = [0, 187]'),\n",
       " Text(0.9327731092436975, 0.4375, 'X[2] <= 7.5\\ngini = 0.212\\nsamples = 9373\\nvalue = [8246, 1127]'),\n",
       " Text(0.8991596638655462, 0.3125, 'X[1] <= 3.5\\ngini = 0.09\\nsamples = 6764\\nvalue = [6445, 319]'),\n",
       " Text(0.8823529411764706, 0.1875, 'X[9] <= 27.275\\ngini = 0.017\\nsamples = 5265\\nvalue = [5221, 44]'),\n",
       " Text(0.8739495798319328, 0.0625, 'gini = 0.009\\nsamples = 5134\\nvalue = [5112, 22]'),\n",
       " Text(0.8907563025210085, 0.0625, 'gini = 0.279\\nsamples = 131\\nvalue = [109, 22]'),\n",
       " Text(0.9159663865546218, 0.1875, 'X[9] <= 13.95\\ngini = 0.3\\nsamples = 1499\\nvalue = [1224, 275]'),\n",
       " Text(0.907563025210084, 0.0625, 'gini = 0.277\\nsamples = 301\\nvalue = [50, 251]'),\n",
       " Text(0.9243697478991597, 0.0625, 'gini = 0.039\\nsamples = 1198\\nvalue = [1174, 24]'),\n",
       " Text(0.9663865546218487, 0.3125, 'X[7] <= 6.5\\ngini = 0.428\\nsamples = 2609\\nvalue = [1801, 808]'),\n",
       " Text(0.9495798319327731, 0.1875, 'X[11] <= 4.5\\ngini = 0.474\\nsamples = 1145\\nvalue = [443, 702]'),\n",
       " Text(0.9411764705882353, 0.0625, 'gini = 0.497\\nsamples = 788\\nvalue = [425, 363]'),\n",
       " Text(0.957983193277311, 0.0625, 'gini = 0.096\\nsamples = 357\\nvalue = [18, 339]'),\n",
       " Text(0.9831932773109243, 0.1875, 'X[5] <= 2.5\\ngini = 0.134\\nsamples = 1464\\nvalue = [1358, 106]'),\n",
       " Text(0.9747899159663865, 0.0625, 'gini = 0.0\\nsamples = 105\\nvalue = [0, 105]'),\n",
       " Text(0.9915966386554622, 0.0625, 'gini = 0.001\\nsamples = 1359\\nvalue = [1358, 1]')]"
      ]
     },
     "execution_count": 269,
     "metadata": {},
     "output_type": "execute_result"
    }
   ],
   "source": [
    "from sklearn import tree\n",
    "\n",
    "plt.figure(figsize=(10,8))\n",
    "tree.plot_tree(gini.fit(x_train,y_train))"
   ]
  },
  {
   "cell_type": "markdown",
   "id": "50f9de9a",
   "metadata": {},
   "source": [
    "# 7. Decision Tree using entropy"
   ]
  },
  {
   "cell_type": "code",
   "execution_count": 270,
   "id": "f0c75353",
   "metadata": {},
   "outputs": [],
   "source": [
    "entropy=DecisionTreeClassifier(criterion='entropy', max_depth=7,random_state=101)"
   ]
  },
  {
   "cell_type": "code",
   "execution_count": 271,
   "id": "307a73ce",
   "metadata": {},
   "outputs": [
    {
     "data": {
      "text/plain": [
       "DecisionTreeClassifier(criterion='entropy', max_depth=7, random_state=101)"
      ]
     },
     "execution_count": 271,
     "metadata": {},
     "output_type": "execute_result"
    }
   ],
   "source": [
    "# fitting the model using training datas\n",
    "\n",
    "entropy.fit(x_train,y_train)"
   ]
  },
  {
   "cell_type": "code",
   "execution_count": 272,
   "id": "a83d3bb9",
   "metadata": {},
   "outputs": [],
   "source": [
    "entropy_prediction=entropy.predict(x_test)"
   ]
  },
  {
   "cell_type": "code",
   "execution_count": 273,
   "id": "57a7362c",
   "metadata": {},
   "outputs": [
    {
     "name": "stdout",
     "output_type": "stream",
     "text": [
      "test accuracy scorre: 0.8887\n"
     ]
    }
   ],
   "source": [
    "print('test accuracy scorre: {:.4f}'.format(accuracy_score(y_test,entropy_prediction)))"
   ]
  },
  {
   "cell_type": "code",
   "execution_count": 274,
   "id": "72151704",
   "metadata": {},
   "outputs": [
    {
     "data": {
      "text/plain": [
       "stem-width              0.220465\n",
       "cap-surface             0.155824\n",
       "gill-spacing            0.119411\n",
       "stem-height             0.090198\n",
       "gill-color              0.066866\n",
       "gill-attachment         0.058519\n",
       "ring-type               0.053528\n",
       "habitat                 0.048851\n",
       "cap-shape               0.037204\n",
       "cap-color               0.036967\n",
       "stem-color              0.034802\n",
       "season                  0.031978\n",
       "does-bruise-or-bleed    0.020475\n",
       "veil-color              0.011838\n",
       "cap-diameter            0.011467\n",
       "has-ring                0.001606\n",
       "stem-root               0.000000\n",
       "spore-print-color       0.000000\n",
       "dtype: float64"
      ]
     },
     "execution_count": 274,
     "metadata": {},
     "output_type": "execute_result"
    }
   ],
   "source": [
    " #view the feature scores\n",
    "\n",
    "feature_scores_1 = pd.Series(entropy.feature_importances_, index=x_train.columns).sort_values(ascending=False)\n",
    "\n",
    "feature_scores_1"
   ]
  },
  {
   "cell_type": "markdown",
   "id": "6a2f0462",
   "metadata": {},
   "source": [
    "## 7.1 Visualizing important features for entropy"
   ]
  },
  {
   "cell_type": "code",
   "execution_count": 275,
   "id": "9bb16578",
   "metadata": {},
   "outputs": [
    {
     "data": {
      "image/png": "[encoded data removed]",
      "text/plain": [
       "<Figure size 1000x800 with 1 Axes>"
      ]
     },
     "metadata": {},
     "output_type": "display_data"
    }
   ],
   "source": [
    "# Creating a seaborn bar plot\n",
    "\n",
    "sns.barplot(x=feature_scores_1, y=feature_scores_1.index)\n",
    "\n",
    "\n",
    "\n",
    "# Add labels to the graph\n",
    "\n",
    "plt.xlabel('Entropy Feature Importance Score')\n",
    "\n",
    "plt.ylabel('Features')\n",
    "\n",
    "\n",
    "\n",
    "# Add title to the graph\n",
    "\n",
    "plt.title(\"Visualizing Important Features\")\n",
    "\n",
    "# Visualize the graph\n",
    "\n",
    "plt.show()"
   ]
  },
  {
   "cell_type": "markdown",
   "id": "051cb00f",
   "metadata": {},
   "source": [
    "## 7.2 summarizing the performance of a classification algorithm using confusion matrix for entropy"
   ]
  },
  {
   "cell_type": "code",
   "execution_count": 276,
   "id": "0254f596",
   "metadata": {},
   "outputs": [
    {
     "name": "stdout",
     "output_type": "stream",
     "text": [
      "Confusion matrix\n",
      "\n",
      " [[4967 1116]\n",
      " [ 435 7415]]\n"
     ]
    }
   ],
   "source": [
    "cm_1=confusion_matrix(y_test,entropy_prediction)\n",
    "print('Confusion matrix\\n\\n', cm_1)\n"
   ]
  },
  {
   "cell_type": "markdown",
   "id": "d1354ca6",
   "metadata": {},
   "source": [
    "## 7.3 Classification Report for entropy index"
   ]
  },
  {
   "cell_type": "code",
   "execution_count": 277,
   "id": "e79fb99c",
   "metadata": {},
   "outputs": [
    {
     "name": "stdout",
     "output_type": "stream",
     "text": [
      "              precision    recall  f1-score   support\n",
      "\n",
      "           e       0.92      0.82      0.86      6083\n",
      "           p       0.87      0.94      0.91      7850\n",
      "\n",
      "    accuracy                           0.89     13933\n",
      "   macro avg       0.89      0.88      0.89     13933\n",
      "weighted avg       0.89      0.89      0.89     13933\n",
      "\n"
     ]
    }
   ],
   "source": [
    "from sklearn.metrics import classification_report\n",
    "\n",
    "print(classification_report(y_test, entropy_prediction))"
   ]
  },
  {
   "cell_type": "markdown",
   "id": "4318cc76",
   "metadata": {},
   "source": [
    "## 7.4 Plot the tree for entropy"
   ]
  },
  {
   "cell_type": "code",
   "execution_count": 278,
   "id": "424162a2",
   "metadata": {},
   "outputs": [
    {
     "data": {
      "text/plain": [
       "[Text(0.38591269841269843, 0.9375, 'X[6] <= 1.5\\nentropy = 0.989\\nsamples = 41796\\nvalue = [18326, 23470]'),\n",
       " Text(0.17195767195767195, 0.8125, 'X[17] <= 2.5\\nentropy = 0.766\\nsamples = 14819\\nvalue = [3310, 11509]'),\n",
       " Text(0.10582010582010581, 0.6875, 'X[4] <= 1.5\\nentropy = 0.67\\nsamples = 13042\\nvalue = [2287, 10755]'),\n",
       " Text(0.09523809523809523, 0.5625, 'X[9] <= 2.515\\nentropy = 0.73\\nsamples = 11196\\nvalue = [2287, 8909]'),\n",
       " Text(0.05291005291005291, 0.4375, 'X[2] <= 10.5\\nentropy = 0.224\\nsamples = 2488\\nvalue = [90, 2398]'),\n",
       " Text(0.042328042328042326, 0.3125, 'X[0] <= 2.865\\nentropy = 0.069\\nsamples = 2418\\nvalue = [20, 2398]'),\n",
       " Text(0.021164021164021163, 0.1875, 'X[1] <= 3.5\\nentropy = 0.034\\nsamples = 2242\\nvalue = [8, 2234]'),\n",
       " Text(0.010582010582010581, 0.0625, 'entropy = 0.0\\nsamples = 1624\\nvalue = [0, 1624]'),\n",
       " Text(0.031746031746031744, 0.0625, 'entropy = 0.1\\nsamples = 618\\nvalue = [8, 610]'),\n",
       " Text(0.06349206349206349, 0.1875, 'X[2] <= 1.5\\nentropy = 0.359\\nsamples = 176\\nvalue = [12, 164]'),\n",
       " Text(0.05291005291005291, 0.0625, 'entropy = 0.0\\nsamples = 12\\nvalue = [12, 0]'),\n",
       " Text(0.07407407407407407, 0.0625, 'entropy = 0.0\\nsamples = 164\\nvalue = [0, 164]'),\n",
       " Text(0.06349206349206349, 0.3125, 'entropy = 0.0\\nsamples = 70\\nvalue = [70, 0]'),\n",
       " Text(0.13756613756613756, 0.4375, 'X[14] <= 5.5\\nentropy = 0.815\\nsamples = 8708\\nvalue = [2197, 6511]'),\n",
       " Text(0.12698412698412698, 0.3125, 'X[12] <= 6.5\\nentropy = 0.851\\nsamples = 7934\\nvalue = [2197, 5737]'),\n",
       " Text(0.10582010582010581, 0.1875, 'X[3] <= 4.5\\nentropy = 0.764\\nsamples = 6379\\nvalue = [1418, 4961]'),\n",
       " Text(0.09523809523809523, 0.0625, 'entropy = 0.895\\nsamples = 3972\\nvalue = [1238, 2734]'),\n",
       " Text(0.1164021164021164, 0.0625, 'entropy = 0.384\\nsamples = 2407\\nvalue = [180, 2227]'),\n",
       " Text(0.14814814814814814, 0.1875, 'X[16] <= 1.5\\nentropy = 1.0\\nsamples = 1555\\nvalue = [779, 776]'),\n",
       " Text(0.13756613756613756, 0.0625, 'entropy = 0.735\\nsamples = 856\\nvalue = [679, 177]'),\n",
       " Text(0.15873015873015872, 0.0625, 'entropy = 0.592\\nsamples = 699\\nvalue = [100, 599]'),\n",
       " Text(0.14814814814814814, 0.3125, 'entropy = 0.0\\nsamples = 774\\nvalue = [0, 774]'),\n",
       " Text(0.1164021164021164, 0.5625, 'entropy = 0.0\\nsamples = 1846\\nvalue = [0, 1846]'),\n",
       " Text(0.23809523809523808, 0.6875, 'X[9] <= 1.99\\nentropy = 0.983\\nsamples = 1777\\nvalue = [1023, 754]'),\n",
       " Text(0.2275132275132275, 0.5625, 'entropy = 0.0\\nsamples = 350\\nvalue = [0, 350]'),\n",
       " Text(0.24867724867724866, 0.5625, 'X[14] <= 5.5\\nentropy = 0.86\\nsamples = 1427\\nvalue = [1023, 404]'),\n",
       " Text(0.23809523809523808, 0.4375, 'X[3] <= 1.5\\nentropy = 0.684\\nsamples = 1250\\nvalue = [1023, 227]'),\n",
       " Text(0.21164021164021163, 0.3125, 'X[5] <= 6.5\\nentropy = 0.959\\nsamples = 504\\nvalue = [312, 192]'),\n",
       " Text(0.19047619047619047, 0.1875, 'X[2] <= 10.5\\nentropy = 0.89\\nsamples = 254\\nvalue = [78, 176]'),\n",
       " Text(0.17989417989417988, 0.0625, 'entropy = 0.446\\nsamples = 194\\nvalue = [18, 176]'),\n",
       " Text(0.20105820105820105, 0.0625, 'entropy = 0.0\\nsamples = 60\\nvalue = [60, 0]'),\n",
       " Text(0.2328042328042328, 0.1875, 'X[16] <= 1.5\\nentropy = 0.343\\nsamples = 250\\nvalue = [234, 16]'),\n",
       " Text(0.2222222222222222, 0.0625, 'entropy = 0.0\\nsamples = 230\\nvalue = [230, 0]'),\n",
       " Text(0.24338624338624337, 0.0625, 'entropy = 0.722\\nsamples = 20\\nvalue = [4, 16]'),\n",
       " Text(0.26455026455026454, 0.3125, 'X[9] <= 22.98\\nentropy = 0.273\\nsamples = 746\\nvalue = [711, 35]'),\n",
       " Text(0.25396825396825395, 0.1875, 'entropy = 0.0\\nsamples = 709\\nvalue = [709, 0]'),\n",
       " Text(0.2751322751322751, 0.1875, 'X[5] <= 6.5\\nentropy = 0.303\\nsamples = 37\\nvalue = [2, 35]'),\n",
       " Text(0.26455026455026454, 0.0625, 'entropy = 0.0\\nsamples = 35\\nvalue = [0, 35]'),\n",
       " Text(0.2857142857142857, 0.0625, 'entropy = 0.0\\nsamples = 2\\nvalue = [2, 0]'),\n",
       " Text(0.25925925925925924, 0.4375, 'entropy = 0.0\\nsamples = 177\\nvalue = [0, 177]'),\n",
       " Text(0.5998677248677249, 0.8125, 'X[2] <= 4.5\\nentropy = 0.991\\nsamples = 26977\\nvalue = [15016, 11961]'),\n",
       " Text(0.3941798941798942, 0.6875, 'X[9] <= 2.155\\nentropy = 0.945\\nsamples = 11426\\nvalue = [4151, 7275]'),\n",
       " Text(0.291005291005291, 0.5625, 'X[8] <= 2.085\\nentropy = 0.58\\nsamples = 1041\\nvalue = [897, 144]'),\n",
       " Text(0.2804232804232804, 0.4375, 'entropy = 0.0\\nsamples = 135\\nvalue = [0, 135]'),\n",
       " Text(0.30158730158730157, 0.4375, 'X[13] <= 1.5\\nentropy = 0.08\\nsamples = 906\\nvalue = [897, 9]'),\n",
       " Text(0.291005291005291, 0.3125, 'entropy = 0.0\\nsamples = 6\\nvalue = [0, 6]'),\n",
       " Text(0.31216931216931215, 0.3125, 'X[9] <= 1.885\\nentropy = 0.032\\nsamples = 900\\nvalue = [897, 3]'),\n",
       " Text(0.30158730158730157, 0.1875, 'entropy = 0.0\\nsamples = 841\\nvalue = [841, 0]'),\n",
       " Text(0.32275132275132273, 0.1875, 'X[11] <= 2.5\\nentropy = 0.29\\nsamples = 59\\nvalue = [56, 3]'),\n",
       " Text(0.31216931216931215, 0.0625, 'entropy = 0.0\\nsamples = 54\\nvalue = [54, 0]'),\n",
       " Text(0.3333333333333333, 0.0625, 'entropy = 0.971\\nsamples = 5\\nvalue = [2, 3]'),\n",
       " Text(0.4973544973544973, 0.5625, 'X[5] <= 1.5\\nentropy = 0.897\\nsamples = 10385\\nvalue = [3254, 7131]'),\n",
       " Text(0.42857142857142855, 0.4375, 'X[9] <= 8.64\\nentropy = 0.9\\nsamples = 1786\\nvalue = [1222, 564]'),\n",
       " Text(0.3862433862433862, 0.3125, 'X[8] <= 5.63\\nentropy = 0.473\\nsamples = 435\\nvalue = [44, 391]'),\n",
       " Text(0.36507936507936506, 0.1875, 'X[9] <= 7.52\\nentropy = 0.031\\nsamples = 320\\nvalue = [1, 319]'),\n",
       " Text(0.3544973544973545, 0.0625, 'entropy = 0.0\\nsamples = 319\\nvalue = [0, 319]'),\n",
       " Text(0.37566137566137564, 0.0625, 'entropy = 0.0\\nsamples = 1\\nvalue = [1, 0]'),\n",
       " Text(0.4074074074074074, 0.1875, 'X[3] <= 2.5\\nentropy = 0.954\\nsamples = 115\\nvalue = [43, 72]'),\n",
       " Text(0.3968253968253968, 0.0625, 'entropy = 0.843\\nsamples = 59\\nvalue = [43, 16]'),\n",
       " Text(0.41798941798941797, 0.0625, 'entropy = 0.0\\nsamples = 56\\nvalue = [0, 56]'),\n",
       " Text(0.4708994708994709, 0.3125, 'X[3] <= 2.0\\nentropy = 0.552\\nsamples = 1351\\nvalue = [1178, 173]'),\n",
       " Text(0.4497354497354497, 0.1875, 'X[1] <= 6.0\\nentropy = 0.029\\nsamples = 1018\\nvalue = [1015, 3]'),\n",
       " Text(0.43915343915343913, 0.0625, 'entropy = 0.0\\nsamples = 1015\\nvalue = [1015, 0]'),\n",
       " Text(0.4603174603174603, 0.0625, 'entropy = 0.0\\nsamples = 3\\nvalue = [0, 3]'),\n",
       " Text(0.49206349206349204, 0.1875, 'X[2] <= 2.5\\nentropy = 1.0\\nsamples = 333\\nvalue = [163, 170]'),\n",
       " Text(0.48148148148148145, 0.0625, 'entropy = 0.296\\nsamples = 172\\nvalue = [163, 9]'),\n",
       " Text(0.5026455026455027, 0.0625, 'entropy = 0.0\\nsamples = 161\\nvalue = [0, 161]'),\n",
       " Text(0.5661375661375662, 0.4375, 'X[16] <= 1.5\\nentropy = 0.789\\nsamples = 8599\\nvalue = [2032, 6567]'),\n",
       " Text(0.544973544973545, 0.3125, 'X[1] <= 6.5\\nentropy = 0.892\\nsamples = 6458\\nvalue = [1994, 4464]'),\n",
       " Text(0.5343915343915344, 0.1875, 'X[7] <= 9.0\\nentropy = 0.933\\nsamples = 5725\\nvalue = [1994, 3731]'),\n",
       " Text(0.5238095238095238, 0.0625, 'entropy = 0.838\\nsamples = 5007\\nvalue = [1341, 3666]'),\n",
       " Text(0.544973544973545, 0.0625, 'entropy = 0.438\\nsamples = 718\\nvalue = [653, 65]'),\n",
       " Text(0.5555555555555556, 0.1875, 'entropy = 0.0\\nsamples = 733\\nvalue = [0, 733]'),\n",
       " Text(0.5873015873015873, 0.3125, 'X[7] <= 1.5\\nentropy = 0.129\\nsamples = 2141\\nvalue = [38, 2103]'),\n",
       " Text(0.5767195767195767, 0.1875, 'X[9] <= 3.085\\nentropy = 0.472\\nsamples = 376\\nvalue = [38, 338]'),\n",
       " Text(0.5661375661375662, 0.0625, 'entropy = 0.0\\nsamples = 38\\nvalue = [38, 0]'),\n",
       " Text(0.5873015873015873, 0.0625, 'entropy = 0.0\\nsamples = 338\\nvalue = [0, 338]'),\n",
       " Text(0.5978835978835979, 0.1875, 'entropy = 0.0\\nsamples = 1765\\nvalue = [0, 1765]'),\n",
       " Text(0.8055555555555556, 0.6875, 'X[9] <= 9.375\\nentropy = 0.883\\nsamples = 15551\\nvalue = [10865, 4686]'),\n",
       " Text(0.7063492063492064, 0.5625, 'X[11] <= 1.5\\nentropy = 0.994\\nsamples = 6502\\nvalue = [2959, 3543]'),\n",
       " Text(0.6507936507936508, 0.4375, 'X[8] <= 3.325\\nentropy = 0.672\\nsamples = 1677\\nvalue = [1381, 296]'),\n",
       " Text(0.6296296296296297, 0.3125, 'X[7] <= 2.0\\nentropy = 0.732\\nsamples = 302\\nvalue = [62, 240]'),\n",
       " Text(0.6190476190476191, 0.1875, 'X[2] <= 7.5\\nentropy = 0.292\\nsamples = 253\\nvalue = [13, 240]'),\n",
       " Text(0.6084656084656085, 0.0625, 'entropy = 0.0\\nsamples = 240\\nvalue = [0, 240]'),\n",
       " Text(0.6296296296296297, 0.0625, 'entropy = 0.0\\nsamples = 13\\nvalue = [13, 0]'),\n",
       " Text(0.6402116402116402, 0.1875, 'entropy = 0.0\\nsamples = 49\\nvalue = [49, 0]'),\n",
       " Text(0.671957671957672, 0.3125, 'X[14] <= 3.5\\nentropy = 0.246\\nsamples = 1375\\nvalue = [1319, 56]'),\n",
       " Text(0.6613756613756614, 0.1875, 'entropy = 0.0\\nsamples = 29\\nvalue = [0, 29]'),\n",
       " Text(0.6825396825396826, 0.1875, 'X[8] <= 3.795\\nentropy = 0.142\\nsamples = 1346\\nvalue = [1319, 27]'),\n",
       " Text(0.671957671957672, 0.0625, 'entropy = 0.502\\nsamples = 244\\nvalue = [217, 27]'),\n",
       " Text(0.6931216931216931, 0.0625, 'entropy = 0.0\\nsamples = 1102\\nvalue = [1102, 0]'),\n",
       " Text(0.7619047619047619, 0.4375, 'X[8] <= 3.675\\nentropy = 0.912\\nsamples = 4825\\nvalue = [1578, 3247]'),\n",
       " Text(0.7354497354497355, 0.3125, 'X[1] <= 3.5\\nentropy = 0.187\\nsamples = 1229\\nvalue = [35, 1194]'),\n",
       " Text(0.7248677248677249, 0.1875, 'X[5] <= 5.5\\nentropy = 0.546\\nsamples = 278\\nvalue = [35, 243]'),\n",
       " Text(0.7142857142857143, 0.0625, 'entropy = 0.31\\nsamples = 252\\nvalue = [14, 238]'),\n",
       " Text(0.7354497354497355, 0.0625, 'entropy = 0.706\\nsamples = 26\\nvalue = [21, 5]'),\n",
       " Text(0.746031746031746, 0.1875, 'entropy = 0.0\\nsamples = 951\\nvalue = [0, 951]'),\n",
       " Text(0.7883597883597884, 0.3125, 'X[2] <= 9.0\\nentropy = 0.985\\nsamples = 3596\\nvalue = [1543, 2053]'),\n",
       " Text(0.7671957671957672, 0.1875, 'X[14] <= 6.5\\nentropy = 0.978\\nsamples = 2018\\nvalue = [1184, 834]'),\n",
       " Text(0.7566137566137566, 0.0625, 'entropy = 0.845\\nsamples = 1628\\nvalue = [1184, 444]'),\n",
       " Text(0.7777777777777778, 0.0625, 'entropy = 0.0\\nsamples = 390\\nvalue = [0, 390]'),\n",
       " Text(0.8095238095238095, 0.1875, 'X[0] <= 4.665\\nentropy = 0.774\\nsamples = 1578\\nvalue = [359, 1219]'),\n",
       " Text(0.798941798941799, 0.0625, 'entropy = 0.951\\nsamples = 963\\nvalue = [357, 606]'),\n",
       " Text(0.8201058201058201, 0.0625, 'entropy = 0.032\\nsamples = 615\\nvalue = [2, 613]'),\n",
       " Text(0.9047619047619048, 0.5625, 'X[8] <= 2.03\\nentropy = 0.547\\nsamples = 9049\\nvalue = [7906, 1143]'),\n",
       " Text(0.8941798941798942, 0.4375, 'entropy = 0.0\\nsamples = 187\\nvalue = [0, 187]'),\n",
       " Text(0.9153439153439153, 0.4375, 'X[2] <= 7.5\\nentropy = 0.493\\nsamples = 8862\\nvalue = [7906, 956]'),\n",
       " Text(0.873015873015873, 0.3125, 'X[1] <= 3.5\\nentropy = 0.273\\nsamples = 6473\\nvalue = [6170, 303]'),\n",
       " Text(0.8518518518518519, 0.1875, 'X[7] <= 6.5\\nentropy = 0.056\\nsamples = 5003\\nvalue = [4971, 32]'),\n",
       " Text(0.8412698412698413, 0.0625, 'entropy = 0.003\\nsamples = 4451\\nvalue = [4450, 1]'),\n",
       " Text(0.8624338624338624, 0.0625, 'entropy = 0.312\\nsamples = 552\\nvalue = [521, 31]'),\n",
       " Text(0.8941798941798942, 0.1875, 'X[9] <= 13.95\\nentropy = 0.69\\nsamples = 1470\\nvalue = [1199, 271]'),\n",
       " Text(0.8835978835978836, 0.0625, 'entropy = 0.443\\nsamples = 272\\nvalue = [25, 247]'),\n",
       " Text(0.9047619047619048, 0.0625, 'entropy = 0.142\\nsamples = 1198\\nvalue = [1174, 24]'),\n",
       " Text(0.9576719576719577, 0.3125, 'X[7] <= 6.5\\nentropy = 0.846\\nsamples = 2389\\nvalue = [1736, 653]'),\n",
       " Text(0.9365079365079365, 0.1875, 'X[2] <= 10.5\\nentropy = 0.971\\nsamples = 959\\nvalue = [383, 576]'),\n",
       " Text(0.9259259259259259, 0.0625, 'entropy = 1.0\\nsamples = 762\\nvalue = [383, 379]'),\n",
       " Text(0.9470899470899471, 0.0625, 'entropy = 0.0\\nsamples = 197\\nvalue = [0, 197]'),\n",
       " Text(0.9788359788359788, 0.1875, 'X[5] <= 2.5\\nentropy = 0.303\\nsamples = 1430\\nvalue = [1353, 77]'),\n",
       " Text(0.9682539682539683, 0.0625, 'entropy = 0.0\\nsamples = 77\\nvalue = [0, 77]'),\n",
       " Text(0.9894179894179894, 0.0625, 'entropy = 0.0\\nsamples = 1353\\nvalue = [1353, 0]')]"
      ]
     },
     "execution_count": 278,
     "metadata": {},
     "output_type": "execute_result"
    }
   ],
   "source": [
    "plt.figure(figsize=(10,8))\n",
    "tree.plot_tree(entropy.fit(x_train,y_train))"
   ]
  },
  {
   "cell_type": "markdown",
   "id": "6683d4a1",
   "metadata": {},
   "source": [
    "# 8. Conclusion"
   ]
  },
  {
   "cell_type": "code",
   "execution_count": 279,
   "id": "6d697e9f",
   "metadata": {},
   "outputs": [],
   "source": [
    "from sklearn.metrics import f1_score"
   ]
  },
  {
   "cell_type": "markdown",
   "id": "94c339ef",
   "metadata": {},
   "source": [
    "## 8.1 F1 score of edible(e) mushrooms."
   ]
  },
  {
   "cell_type": "code",
   "execution_count": 280,
   "id": "ab621ffd",
   "metadata": {},
   "outputs": [
    {
     "name": "stdout",
     "output_type": "stream",
     "text": [
      "Gini Index F1 Score:  0.8878338278931751\n",
      "Entropy F1 Score:  0.8649542882020026\n"
     ]
    }
   ],
   "source": [
    "f1_score_gini=f1_score(y_test,gini_prediction,pos_label = 'e')\n",
    "f1_score_entropy=f1_score(y_test,entropy_prediction,pos_label = 'e')\n",
    "\n",
    "print('Gini Index F1 Score: ',f1_score_gini)\n",
    "print('Entropy F1 Score: ',f1_score_entropy)"
   ]
  },
  {
   "cell_type": "markdown",
   "id": "6a5ca115",
   "metadata": {},
   "source": [
    "## 8.2 F1 score of poisonous(p) mushrooms"
   ]
  },
  {
   "cell_type": "code",
   "execution_count": 281,
   "id": "9389ec90",
   "metadata": {},
   "outputs": [
    {
     "name": "stdout",
     "output_type": "stream",
     "text": [
      "Gini Index F1 Score:  0.9176778047414598\n",
      "Entropy F1 Score:  0.9053171357060008\n"
     ]
    }
   ],
   "source": [
    "f1_score_gini=f1_score(y_test,gini_prediction,pos_label = 'p')\n",
    "f1_score_entropy=f1_score(y_test,entropy_prediction,pos_label = 'p')\n",
    "\n",
    "print('Gini Index F1 Score: ',f1_score_gini)\n",
    "print('Entropy F1 Score: ',f1_score_entropy)"
   ]
  },
  {
   "cell_type": "markdown",
   "id": "a7e4cc08",
   "metadata": {},
   "source": [
    "## 8.3 Decision-Tree Classifier model using both gini index and entropy have only very very small difference in model accuracy and training set accuracy, so there is no sign of overfitting."
   ]
  },
  {
   "cell_type": "markdown",
   "id": "49682b7b",
   "metadata": {},
   "source": [
    "# 9. Exploratory Data Analysis  of data_2"
   ]
  },
  {
   "cell_type": "code",
   "execution_count": 282,
   "id": "8ca15709",
   "metadata": {},
   "outputs": [
    {
     "data": {
      "text/html": [
       "<div>\n",
       "<style scoped>\n",
       "    .dataframe tbody tr th:only-of-type {\n",
       "        vertical-align: middle;\n",
       "    }\n",
       "\n",
       "    .dataframe tbody tr th {\n",
       "        vertical-align: top;\n",
       "    }\n",
       "\n",
       "    .dataframe thead th {\n",
       "        text-align: right;\n",
       "    }\n",
       "</style>\n",
       "<table border=\"1\" class=\"dataframe\">\n",
       "  <thead>\n",
       "    <tr style=\"text-align: right;\">\n",
       "      <th></th>\n",
       "      <th>family</th>\n",
       "      <th>name</th>\n",
       "      <th>class</th>\n",
       "      <th>cap-diameter</th>\n",
       "      <th>cap-shape</th>\n",
       "      <th>Cap-surface</th>\n",
       "      <th>cap-color</th>\n",
       "      <th>does-bruise-or-bleed</th>\n",
       "      <th>gill-attachment</th>\n",
       "      <th>gill-spacing</th>\n",
       "      <th>...</th>\n",
       "      <th>stem-root</th>\n",
       "      <th>stem-surface</th>\n",
       "      <th>stem-color</th>\n",
       "      <th>veil-type</th>\n",
       "      <th>veil-color</th>\n",
       "      <th>has-ring</th>\n",
       "      <th>ring-type</th>\n",
       "      <th>Spore-print-color</th>\n",
       "      <th>habitat</th>\n",
       "      <th>season</th>\n",
       "    </tr>\n",
       "  </thead>\n",
       "  <tbody>\n",
       "    <tr>\n",
       "      <th>0</th>\n",
       "      <td>Amanita Family</td>\n",
       "      <td>Fly Agaric</td>\n",
       "      <td>p</td>\n",
       "      <td>[10</td>\n",
       "      <td>NaN</td>\n",
       "      <td>NaN</td>\n",
       "      <td>NaN</td>\n",
       "      <td>NaN</td>\n",
       "      <td>NaN</td>\n",
       "      <td>NaN</td>\n",
       "      <td>...</td>\n",
       "      <td>NaN</td>\n",
       "      <td>NaN</td>\n",
       "      <td>NaN</td>\n",
       "      <td>NaN</td>\n",
       "      <td>NaN</td>\n",
       "      <td>NaN</td>\n",
       "      <td>NaN</td>\n",
       "      <td>NaN</td>\n",
       "      <td>NaN</td>\n",
       "      <td>NaN</td>\n",
       "    </tr>\n",
       "    <tr>\n",
       "      <th>1</th>\n",
       "      <td>Amanita Family</td>\n",
       "      <td>Panther Cap</td>\n",
       "      <td>p</td>\n",
       "      <td>[5</td>\n",
       "      <td>NaN</td>\n",
       "      <td>NaN</td>\n",
       "      <td>NaN</td>\n",
       "      <td>NaN</td>\n",
       "      <td>NaN</td>\n",
       "      <td>NaN</td>\n",
       "      <td>...</td>\n",
       "      <td>NaN</td>\n",
       "      <td>NaN</td>\n",
       "      <td>NaN</td>\n",
       "      <td>NaN</td>\n",
       "      <td>NaN</td>\n",
       "      <td>NaN</td>\n",
       "      <td>NaN</td>\n",
       "      <td>NaN</td>\n",
       "      <td>NaN</td>\n",
       "      <td>NaN</td>\n",
       "    </tr>\n",
       "    <tr>\n",
       "      <th>2</th>\n",
       "      <td>Amanita Family</td>\n",
       "      <td>False Panther Cap</td>\n",
       "      <td>p</td>\n",
       "      <td>[10</td>\n",
       "      <td>NaN</td>\n",
       "      <td>NaN</td>\n",
       "      <td>NaN</td>\n",
       "      <td>NaN</td>\n",
       "      <td>NaN</td>\n",
       "      <td>NaN</td>\n",
       "      <td>...</td>\n",
       "      <td>NaN</td>\n",
       "      <td>NaN</td>\n",
       "      <td>NaN</td>\n",
       "      <td>NaN</td>\n",
       "      <td>NaN</td>\n",
       "      <td>NaN</td>\n",
       "      <td>NaN</td>\n",
       "      <td>NaN</td>\n",
       "      <td>NaN</td>\n",
       "      <td>NaN</td>\n",
       "    </tr>\n",
       "    <tr>\n",
       "      <th>3</th>\n",
       "      <td>Amanita Family</td>\n",
       "      <td>The Blusher</td>\n",
       "      <td>e</td>\n",
       "      <td>[5</td>\n",
       "      <td>NaN</td>\n",
       "      <td>NaN</td>\n",
       "      <td>NaN</td>\n",
       "      <td>NaN</td>\n",
       "      <td>NaN</td>\n",
       "      <td>NaN</td>\n",
       "      <td>...</td>\n",
       "      <td>NaN</td>\n",
       "      <td>NaN</td>\n",
       "      <td>NaN</td>\n",
       "      <td>NaN</td>\n",
       "      <td>NaN</td>\n",
       "      <td>NaN</td>\n",
       "      <td>NaN</td>\n",
       "      <td>NaN</td>\n",
       "      <td>NaN</td>\n",
       "      <td>NaN</td>\n",
       "    </tr>\n",
       "    <tr>\n",
       "      <th>4</th>\n",
       "      <td>Amanita Family</td>\n",
       "      <td>Death Cap</td>\n",
       "      <td>p</td>\n",
       "      <td>[5</td>\n",
       "      <td>NaN</td>\n",
       "      <td>NaN</td>\n",
       "      <td>NaN</td>\n",
       "      <td>NaN</td>\n",
       "      <td>NaN</td>\n",
       "      <td>NaN</td>\n",
       "      <td>...</td>\n",
       "      <td>NaN</td>\n",
       "      <td>NaN</td>\n",
       "      <td>NaN</td>\n",
       "      <td>NaN</td>\n",
       "      <td>NaN</td>\n",
       "      <td>NaN</td>\n",
       "      <td>NaN</td>\n",
       "      <td>NaN</td>\n",
       "      <td>NaN</td>\n",
       "      <td>NaN</td>\n",
       "    </tr>\n",
       "  </tbody>\n",
       "</table>\n",
       "<p>5 rows × 23 columns</p>\n",
       "</div>"
      ],
      "text/plain": [
       "           family               name class cap-diameter cap-shape Cap-surface  \\\n",
       "0  Amanita Family         Fly Agaric     p          [10       NaN         NaN   \n",
       "1  Amanita Family        Panther Cap     p           [5       NaN         NaN   \n",
       "2  Amanita Family  False Panther Cap     p          [10       NaN         NaN   \n",
       "3  Amanita Family        The Blusher     e           [5       NaN         NaN   \n",
       "4  Amanita Family          Death Cap     p           [5       NaN         NaN   \n",
       "\n",
       "  cap-color does-bruise-or-bleed gill-attachment  gill-spacing  ... stem-root  \\\n",
       "0       NaN                  NaN             NaN           NaN  ...       NaN   \n",
       "1       NaN                  NaN             NaN           NaN  ...       NaN   \n",
       "2       NaN                  NaN             NaN           NaN  ...       NaN   \n",
       "3       NaN                  NaN             NaN           NaN  ...       NaN   \n",
       "4       NaN                  NaN             NaN           NaN  ...       NaN   \n",
       "\n",
       "  stem-surface  stem-color  veil-type  veil-color  has-ring  ring-type  \\\n",
       "0          NaN         NaN        NaN         NaN       NaN        NaN   \n",
       "1          NaN         NaN        NaN         NaN       NaN        NaN   \n",
       "2          NaN         NaN        NaN         NaN       NaN        NaN   \n",
       "3          NaN         NaN        NaN         NaN       NaN        NaN   \n",
       "4          NaN         NaN        NaN         NaN       NaN        NaN   \n",
       "\n",
       "   Spore-print-color  habitat  season  \n",
       "0                NaN      NaN     NaN  \n",
       "1                NaN      NaN     NaN  \n",
       "2                NaN      NaN     NaN  \n",
       "3                NaN      NaN     NaN  \n",
       "4                NaN      NaN     NaN  \n",
       "\n",
       "[5 rows x 23 columns]"
      ]
     },
     "execution_count": 282,
     "metadata": {},
     "output_type": "execute_result"
    }
   ],
   "source": [
    "data_2.head()"
   ]
  },
  {
   "cell_type": "code",
   "execution_count": 283,
   "id": "9a3d8b7b",
   "metadata": {},
   "outputs": [
    {
     "data": {
      "text/html": [
       "<div>\n",
       "<style scoped>\n",
       "    .dataframe tbody tr th:only-of-type {\n",
       "        vertical-align: middle;\n",
       "    }\n",
       "\n",
       "    .dataframe tbody tr th {\n",
       "        vertical-align: top;\n",
       "    }\n",
       "\n",
       "    .dataframe thead th {\n",
       "        text-align: right;\n",
       "    }\n",
       "</style>\n",
       "<table border=\"1\" class=\"dataframe\">\n",
       "  <thead>\n",
       "    <tr style=\"text-align: right;\">\n",
       "      <th></th>\n",
       "      <th>family</th>\n",
       "      <th>name</th>\n",
       "      <th>class</th>\n",
       "      <th>cap-diameter</th>\n",
       "      <th>cap-shape</th>\n",
       "      <th>Cap-surface</th>\n",
       "      <th>cap-color</th>\n",
       "      <th>does-bruise-or-bleed</th>\n",
       "      <th>gill-attachment</th>\n",
       "      <th>gill-spacing</th>\n",
       "      <th>...</th>\n",
       "      <th>stem-root</th>\n",
       "      <th>stem-surface</th>\n",
       "      <th>stem-color</th>\n",
       "      <th>veil-type</th>\n",
       "      <th>veil-color</th>\n",
       "      <th>has-ring</th>\n",
       "      <th>ring-type</th>\n",
       "      <th>Spore-print-color</th>\n",
       "      <th>habitat</th>\n",
       "      <th>season</th>\n",
       "    </tr>\n",
       "  </thead>\n",
       "  <tbody>\n",
       "    <tr>\n",
       "      <th>168</th>\n",
       "      <td>Saddle-Cup Family</td>\n",
       "      <td>White Saddle</td>\n",
       "      <td>p</td>\n",
       "      <td>[2</td>\n",
       "      <td>NaN</td>\n",
       "      <td>NaN</td>\n",
       "      <td>NaN</td>\n",
       "      <td>NaN</td>\n",
       "      <td>NaN</td>\n",
       "      <td>NaN</td>\n",
       "      <td>...</td>\n",
       "      <td>NaN</td>\n",
       "      <td>NaN</td>\n",
       "      <td>NaN</td>\n",
       "      <td>NaN</td>\n",
       "      <td>NaN</td>\n",
       "      <td>NaN</td>\n",
       "      <td>NaN</td>\n",
       "      <td>NaN</td>\n",
       "      <td>NaN</td>\n",
       "      <td>NaN</td>\n",
       "    </tr>\n",
       "    <tr>\n",
       "      <th>169</th>\n",
       "      <td>Bracket Fungi</td>\n",
       "      <td>Elfin's Saddle</td>\n",
       "      <td>p</td>\n",
       "      <td>[2</td>\n",
       "      <td>NaN</td>\n",
       "      <td>NaN</td>\n",
       "      <td>NaN</td>\n",
       "      <td>NaN</td>\n",
       "      <td>NaN</td>\n",
       "      <td>NaN</td>\n",
       "      <td>...</td>\n",
       "      <td>NaN</td>\n",
       "      <td>NaN</td>\n",
       "      <td>NaN</td>\n",
       "      <td>NaN</td>\n",
       "      <td>NaN</td>\n",
       "      <td>NaN</td>\n",
       "      <td>NaN</td>\n",
       "      <td>NaN</td>\n",
       "      <td>NaN</td>\n",
       "      <td>NaN</td>\n",
       "    </tr>\n",
       "    <tr>\n",
       "      <th>170</th>\n",
       "      <td>Bracket Fungi</td>\n",
       "      <td>Turban Fungus</td>\n",
       "      <td>p</td>\n",
       "      <td>[5</td>\n",
       "      <td>NaN</td>\n",
       "      <td>NaN</td>\n",
       "      <td>NaN</td>\n",
       "      <td>NaN</td>\n",
       "      <td>NaN</td>\n",
       "      <td>NaN</td>\n",
       "      <td>...</td>\n",
       "      <td>NaN</td>\n",
       "      <td>NaN</td>\n",
       "      <td>NaN</td>\n",
       "      <td>NaN</td>\n",
       "      <td>NaN</td>\n",
       "      <td>NaN</td>\n",
       "      <td>NaN</td>\n",
       "      <td>NaN</td>\n",
       "      <td>NaN</td>\n",
       "      <td>NaN</td>\n",
       "    </tr>\n",
       "    <tr>\n",
       "      <th>171</th>\n",
       "      <td>Morel Family</td>\n",
       "      <td>Common Morel</td>\n",
       "      <td>e</td>\n",
       "      <td>[3</td>\n",
       "      <td>NaN</td>\n",
       "      <td>NaN</td>\n",
       "      <td>NaN</td>\n",
       "      <td>NaN</td>\n",
       "      <td>NaN</td>\n",
       "      <td>NaN</td>\n",
       "      <td>...</td>\n",
       "      <td>NaN</td>\n",
       "      <td>NaN</td>\n",
       "      <td>NaN</td>\n",
       "      <td>NaN</td>\n",
       "      <td>NaN</td>\n",
       "      <td>NaN</td>\n",
       "      <td>NaN</td>\n",
       "      <td>NaN</td>\n",
       "      <td>NaN</td>\n",
       "      <td>NaN</td>\n",
       "    </tr>\n",
       "    <tr>\n",
       "      <th>172</th>\n",
       "      <td>Jelly Discs Family</td>\n",
       "      <td>Jelly Babies</td>\n",
       "      <td>p</td>\n",
       "      <td>[1</td>\n",
       "      <td>NaN</td>\n",
       "      <td>NaN</td>\n",
       "      <td>NaN</td>\n",
       "      <td>NaN</td>\n",
       "      <td>NaN</td>\n",
       "      <td>NaN</td>\n",
       "      <td>...</td>\n",
       "      <td>NaN</td>\n",
       "      <td>NaN</td>\n",
       "      <td>NaN</td>\n",
       "      <td>NaN</td>\n",
       "      <td>NaN</td>\n",
       "      <td>NaN</td>\n",
       "      <td>NaN</td>\n",
       "      <td>NaN</td>\n",
       "      <td>NaN</td>\n",
       "      <td>NaN</td>\n",
       "    </tr>\n",
       "  </tbody>\n",
       "</table>\n",
       "<p>5 rows × 23 columns</p>\n",
       "</div>"
      ],
      "text/plain": [
       "                 family            name class cap-diameter cap-shape  \\\n",
       "168   Saddle-Cup Family    White Saddle     p           [2       NaN   \n",
       "169       Bracket Fungi  Elfin's Saddle     p           [2       NaN   \n",
       "170       Bracket Fungi   Turban Fungus     p           [5       NaN   \n",
       "171        Morel Family    Common Morel     e           [3       NaN   \n",
       "172  Jelly Discs Family    Jelly Babies     p           [1       NaN   \n",
       "\n",
       "    Cap-surface cap-color does-bruise-or-bleed gill-attachment  gill-spacing  \\\n",
       "168         NaN       NaN                  NaN             NaN           NaN   \n",
       "169         NaN       NaN                  NaN             NaN           NaN   \n",
       "170         NaN       NaN                  NaN             NaN           NaN   \n",
       "171         NaN       NaN                  NaN             NaN           NaN   \n",
       "172         NaN       NaN                  NaN             NaN           NaN   \n",
       "\n",
       "     ... stem-root stem-surface  stem-color  veil-type  veil-color  has-ring  \\\n",
       "168  ...       NaN          NaN         NaN        NaN         NaN       NaN   \n",
       "169  ...       NaN          NaN         NaN        NaN         NaN       NaN   \n",
       "170  ...       NaN          NaN         NaN        NaN         NaN       NaN   \n",
       "171  ...       NaN          NaN         NaN        NaN         NaN       NaN   \n",
       "172  ...       NaN          NaN         NaN        NaN         NaN       NaN   \n",
       "\n",
       "     ring-type  Spore-print-color  habitat  season  \n",
       "168        NaN                NaN      NaN     NaN  \n",
       "169        NaN                NaN      NaN     NaN  \n",
       "170        NaN                NaN      NaN     NaN  \n",
       "171        NaN                NaN      NaN     NaN  \n",
       "172        NaN                NaN      NaN     NaN  \n",
       "\n",
       "[5 rows x 23 columns]"
      ]
     },
     "execution_count": 283,
     "metadata": {},
     "output_type": "execute_result"
    }
   ],
   "source": [
    "data_2.tail()"
   ]
  },
  {
   "cell_type": "code",
   "execution_count": 284,
   "id": "f5396c1a",
   "metadata": {},
   "outputs": [
    {
     "name": "stdout",
     "output_type": "stream",
     "text": [
      "<class 'pandas.core.frame.DataFrame'>\n",
      "RangeIndex: 173 entries, 0 to 172\n",
      "Data columns (total 23 columns):\n",
      " #   Column                Non-Null Count  Dtype  \n",
      "---  ------                --------------  -----  \n",
      " 0   family                173 non-null    object \n",
      " 1   name                  173 non-null    object \n",
      " 2   class                 173 non-null    object \n",
      " 3   cap-diameter          173 non-null    object \n",
      " 4   cap-shape             1 non-null      object \n",
      " 5   Cap-surface           1 non-null      object \n",
      " 6   cap-color             1 non-null      object \n",
      " 7   does-bruise-or-bleed  1 non-null      object \n",
      " 8   gill-attachment       1 non-null      object \n",
      " 9   gill-spacing          0 non-null      float64\n",
      " 10  gill-color            1 non-null      object \n",
      " 11  stem-height           1 non-null      object \n",
      " 12  stem-width            0 non-null      float64\n",
      " 13  stem-root             0 non-null      float64\n",
      " 14  stem-surface          0 non-null      float64\n",
      " 15  stem-color            0 non-null      float64\n",
      " 16  veil-type             0 non-null      float64\n",
      " 17  veil-color            0 non-null      float64\n",
      " 18  has-ring              0 non-null      float64\n",
      " 19  ring-type             0 non-null      float64\n",
      " 20  Spore-print-color     0 non-null      float64\n",
      " 21  habitat               0 non-null      float64\n",
      " 22  season                0 non-null      float64\n",
      "dtypes: float64(12), object(11)\n",
      "memory usage: 31.2+ KB\n"
     ]
    }
   ],
   "source": [
    "data_2.info()"
   ]
  },
  {
   "cell_type": "code",
   "execution_count": 285,
   "id": "cad546b5",
   "metadata": {},
   "outputs": [
    {
     "data": {
      "text/plain": [
       "Tricholoma Family         43\n",
       "Russula Family            27\n",
       "Bolete Family             14\n",
       "Ink Cap Family            13\n",
       "Cortinarius Family        11\n",
       "Stropharia Family          8\n",
       "Amanita Family             8\n",
       "Wax Gill Family            8\n",
       "Entoloma Family            7\n",
       "Bracket Fungi              7\n",
       "Mushroom Family            5\n",
       "Bolbitius Family           3\n",
       "Lepiota Family             3\n",
       "Paxillus Family            3\n",
       "Chanterelle Family         3\n",
       "Pluteus Family             2\n",
       "Oyster Mushroom Family     2\n",
       "Crepidotus Family          1\n",
       "Hydnum Family              1\n",
       "Ear-Pick Family            1\n",
       "Saddle-Cup Family          1\n",
       "Morel Family               1\n",
       "Jelly Discs Family         1\n",
       "Name: family, dtype: int64"
      ]
     },
     "execution_count": 285,
     "metadata": {},
     "output_type": "execute_result"
    }
   ],
   "source": [
    "data_2['family'].value_counts()"
   ]
  },
  {
   "cell_type": "code",
   "execution_count": 286,
   "id": "fc371b77",
   "metadata": {},
   "outputs": [
    {
     "name": "stdout",
     "output_type": "stream",
     "text": [
      "Name of each species:\n",
      " ['Fly Agaric', 'Panther Cap', 'False Panther Cap', 'The Blusher', 'Death Cap', 'False Death Cap', 'Destroying Angel', 'Tawny Grisette', 'Parasol Mushroom', 'Shaggy Parasol', 'Stinking Parasol', 'Saffron Parasol', 'The Deceiver', 'Amethyst Deceiver', 'Wood Blewit', 'Field Blewit', 'Clouded Agaric', 'Club-footed Funnel Cap', 'Common Funnel Cap', 'Aniseed Funnel Cap', 'Ivory Clitocybe', 'Wood Woolly-foot', 'Russet Tough Shank', 'Clustered Tough Shank', 'Greasy Tough Shank', 'Spotted Tough Shank', 'Fairy Ring Champignon', 'Little Wheel Fungus', 'Horse-hair Fungus', 'Bonnet Bell Cap', 'Stump Bell Cap', 'Tufted Bell Cap', 'Milky Bell Cap', 'Small Bleeding Bell Cap', 'Lilac Bell Cap', 'Yellow-stemmed Bell Cap', 'Orange Bell Cap', 'Orange Moss Agaric', 'Umbrella Navel Cap', 'Rooting Shank', 'Porcelain Mushroom', 'Velvet Shank', 'Honey Fungus', 'Bulbous Honey Fungus', 'Soap-scented Tricholoma', 'Grey Tricholoma', 'Scaly Tricholoma', 'Yellow-brown Tricholoma', 'Sulphur Tricholoma', \"St George's Mushroom\", 'Clustered Brown Cap', 'Changeable Melanoleuca', 'Plums and custard', 'Ivory Wax Cap', 'Yellow Wax cap', 'Orange-red Wax Cap', 'Blackening Wax Cap', 'Meadow Wax Cap', 'Scarlet Hood', 'Parrot Wax Cap', 'Herald of Winter', 'Common Yellow Russula', 'Yellow-gilled Russula', 'Yellow Swamp Russula', 'Geranium-scented Russula', 'Stinking Russula', 'Fragile Russula', 'Birch Russula', 'Bare-toothed Russula', 'The Charcoal Burner', 'Blackish Purple Russula', 'Blackening Russula', 'The Sickener', 'Beechwood Sickener', 'Crab-scented Russula', 'Grass-green Russula', 'Peppery Milk Cap', 'Fleecy Milk Cap', 'Oak Milk Cap', 'Slimy Milk Cap', 'Ugly Milk Cap', 'Rufous Milk Cap', 'Sweet Milk Cap', 'Small Brown Milk Cap', 'Coconut-scented Milk Cap', 'Woolly Milk Cap', 'Saffron Milk Cap', 'Spruce Milk Cap', 'Fawn Pluteus', 'Veined Pluteus', 'Silky Nolanea', 'Striated Nolanea', 'White Leptonia', 'Blue Leptonia', 'Livid Entoloma', 'The Miller', 'Apricot Fungus', 'Egg Yolk Fungus', 'Brown Bell Cap', 'Spring Agaric', 'Shaggy Pholiota', 'Charcoal Pholiota', 'Brown Stew Fungus', 'Sulphur Tuft', 'Brick Caps', 'Verdigris Toadstool', 'Dung Roundhead', 'Magic Mushroom', 'Red-banded Cortinarius', 'Purple Cortinarius', 'Blood-red Cortinarius', 'Red-staining Inocybe', 'Straw-coloured Inocybe', 'Common White Inocybe', 'Poison Pie', 'Dark-centred Hebeloma', 'Rusty Wood Rotter', 'Spectacular Gymnopile', 'Moss Pixy Cap', 'Field Mushroom', 'Cultivated Mushroom', 'Horse Mushroom', 'Yellow-staining Mushroom', 'Bleeding Brown Mushroom', 'Shaggy Ink Cap', 'Common Ink Cap', 'Magpie Ink Cap', 'Rusty Carpet Ink Cap', 'Glistening Ink Cap', \"Fairies' Bonnets\", 'Fairy Parasol', 'Common Crumble Cap', 'Two-toned Crumble Cap', 'Hay Cap', 'Petticoat Fungus', 'Egg-shell Toadstool', 'Weeping Widow', 'Cep', 'Bay Bolete', 'Red-cracked Bolete', 'Yellow-cracked Bolete', 'Dotted-stemmed Bolete', 'Lurid Bolete', 'Parasitic Bolete', 'Bitter Bolete', 'Peppery Bolete', 'Orange Birch Bolete', 'Brown Birch Bolete', 'Larch Bolete', 'Slippery Jack', 'Shallow-pored Bolete', 'Brown Roll-rim', 'Velvet Roll-rim', 'False Chanterelle', 'Chanterelle', 'Tubed Chanterelle', 'Horn of Plenty', 'Oyster Mushroom', 'Branched Oyster Mushroom', 'Olive-brown Panellus', 'Soft Slipper Toadstool', 'Hedgehog Fungus', 'Ear-pick Fungus', 'Hairy Stereum', 'Silver Leaf Fungus', \"Dryad's Saddle\", 'Fuzzy Polypore', 'Brown Goblet', 'White Saddle', \"Elfin's Saddle\", 'Turban Fungus', 'Common Morel', 'Jelly Babies']\n",
      "\n",
      "\n",
      "total number of species:  173\n"
     ]
    }
   ],
   "source": [
    "l=[]\n",
    "for i in data_2['name']:\n",
    "    l.append(i)\n",
    "    \n",
    "print('Name of each species:\\n',l)\n",
    "print('\\n\\ntotal number of species: ',data_2['name'].value_counts().sum())"
   ]
  },
  {
   "cell_type": "markdown",
   "id": "2f8c8434",
   "metadata": {},
   "source": [
    "## 9.1 There are over 14000 species of mushroom but data_2 contains on 173 species.Mejority of data_2 columns is filled with null values, hence it is better to drop the data_2. data_1 alone is necessary for building the model\n",
    "\n",
    "## Reference: https://www.nps.gov/mora/learn/nature/mushrooms.htm#:~:text=Think%20of%20the%20mushroom%20as,of%20the%20species%20that%20exist."
   ]
  },
  {
   "cell_type": "code",
   "execution_count": null,
   "id": "e7fce747",
   "metadata": {},
   "outputs": [],
   "source": []
  },
  {
   "cell_type": "code",
   "execution_count": null,
   "id": "732dac3b",
   "metadata": {},
   "outputs": [],
   "source": []
  },
  {
   "cell_type": "code",
   "execution_count": null,
   "id": "5fd2e20a",
   "metadata": {},
   "outputs": [],
   "source": []
  }
 ],
 "metadata": {
  "kernelspec": {
   "display_name": "Python 3 (ipykernel)",
   "language": "python",
   "name": "python3"
  },
  "language_info": {
   "codemirror_mode": {
    "name": "ipython",
    "version": 3
   },
   "file_extension": ".py",
   "mimetype": "text/x-python",
   "name": "python",
   "nbconvert_exporter": "python",
   "pygments_lexer": "ipython3",
   "version": "3.9.13"
  }
 },
 "nbformat": 4,
 "nbformat_minor": 5
}
